{
 "cells": [
  {
   "cell_type": "markdown",
   "id": "2fe29049",
   "metadata": {},
   "source": [
    "# Solutions to Tensor basics"
   ]
  },
  {
   "cell_type": "markdown",
   "id": "3c8f3846-988b-4d6b-8f4e-078c5269df10",
   "metadata": {},
   "source": [
    "Here, we cover some very basic concepts of tensor networks:\n",
    "\n",
    "- how to represent tensors numerically, and\n",
    "- what the basic operations are that we need for tensors\n",
    "\n",
    "For these (toy code) exercises will use the python [numpy](https://numpy.org/doc/stable/user/quickstart.html) librabry for simplicity. For production MPS code, you should eventually switch to a more generic library, e.g., [TeNPy](https://github.com/tenpy/tenpy), which provide a more powerfull class for representing tensors - this allows to make use of block-sparseness implied by symmetries and helps with index bookkeeping."
   ]
  },
  {
   "cell_type": "code",
   "execution_count": 73,
   "id": "82932acc-1850-4cda-a34b-2309bde3371d",
   "metadata": {},
   "outputs": [],
   "source": [
    "import numpy as np"
   ]
  },
  {
   "cell_type": "markdown",
   "id": "35a02910-a23b-496f-b1af-2dd566a3a20a",
   "metadata": {},
   "source": [
    "For later use, let us also import matplotlib and set some cosmetic display options."
   ]
  },
  {
   "cell_type": "code",
   "execution_count": 74,
   "id": "b7d6aedd",
   "metadata": {},
   "outputs": [],
   "source": [
    "import matplotlib.pyplot as plt\n",
    "\n",
    "np.set_printoptions(precision=5, suppress=True, linewidth=100, threshold=50)\n",
    "plt.rcParams['figure.dpi'] = 150"
   ]
  },
  {
   "cell_type": "markdown",
   "id": "0ec28c62-4028-42ee-80ba-6c4370111024",
   "metadata": {},
   "source": [
    "## Initializing tensors in numpy\n",
    "\n",
    "From a mathematical point of view, tensors are multi-linear function between vector spaces.\n",
    "From a numerical point of view, however, tensors are just collections of numbers arranged in a multi-dimensional grid, with element-wise addition and tensordot contractions over one or multiple legs.\n",
    "\n",
    "In this set of toycodes, we represent tensors directly as numpy arrays. \n",
    "The following examples demonstrate different ways to initialize tensors, here for the usual `2x2` Pauli matrices:"
   ]
  },
  {
   "cell_type": "code",
   "execution_count": 75,
   "id": "778f138c-f9b3-4889-baca-e1000d4bf05e",
   "metadata": {},
   "outputs": [
    {
     "data": {
      "text/plain": [
       "array([[1., 0.],\n",
       "       [0., 1.]])"
      ]
     },
     "execution_count": 75,
     "metadata": {},
     "output_type": "execute_result"
    }
   ],
   "source": [
    "# np.eye = identity matrix of given dimension 2\n",
    "Id = np.eye(2)  \n",
    "Id"
   ]
  },
  {
   "cell_type": "code",
   "execution_count": 76,
   "id": "88b69153-267d-47eb-bca8-f7f0e97ad0bc",
   "metadata": {},
   "outputs": [
    {
     "data": {
      "text/plain": [
       "array([[0., 1.],\n",
       "       [1., 0.]])"
      ]
     },
     "execution_count": 76,
     "metadata": {},
     "output_type": "execute_result"
    }
   ],
   "source": [
    "# specify each element \n",
    "X = np.array([[0, 1.], [1., 0.]])  \n",
    "X"
   ]
  },
  {
   "cell_type": "code",
   "execution_count": 77,
   "id": "3714f0a7-2b92-46df-bc61-f7ed5a91cd4c",
   "metadata": {},
   "outputs": [
    {
     "data": {
      "text/plain": [
       "array([[ 0.+0.j, -0.-1.j],\n",
       "       [ 0.+1.j,  0.+0.j]])"
      ]
     },
     "execution_count": 77,
     "metadata": {},
     "output_type": "execute_result"
    }
   ],
   "source": [
    "# initialize empty matrix of dimensions 2x2\n",
    "Y = np.zeros([2, 2], dtype=np.complex_) \n",
    "# and explicitly set non-zero entries\n",
    "Y[0, 1] = -1.j  # j = imaginary unit\n",
    "Y[1, 0] = 1.j\n",
    "Y"
   ]
  },
  {
   "cell_type": "code",
   "execution_count": 78,
   "id": "3dd23ebe-5ed1-4b3e-b0e7-cfa81bd7caab",
   "metadata": {},
   "outputs": [
    {
     "data": {
      "text/plain": [
       "array([[ 1.,  0.],\n",
       "       [ 0., -1.]])"
      ]
     },
     "execution_count": 78,
     "metadata": {},
     "output_type": "execute_result"
    }
   ],
   "source": [
    "# only specify the diagonal of a matrix\n",
    "Z = np.diag([1., -1.]) \n",
    "Z"
   ]
  },
  {
   "cell_type": "markdown",
   "id": "2cc74936-5116-4ec4-824d-f6d2f4e877cc",
   "metadata": {},
   "source": [
    "They are all simple `2x2` matrices, as we can see by checking the `shape`. Only the `Y` matrix has complex data type (`dtype`):"
   ]
  },
  {
   "cell_type": "code",
   "execution_count": 79,
   "id": "630abe6c-fc4c-48c4-8382-2ddb988d4da8",
   "metadata": {},
   "outputs": [
    {
     "name": "stdout",
     "output_type": "stream",
     "text": [
      "(2, 2) float64\n",
      "(2, 2) float64\n",
      "(2, 2) complex128\n",
      "(2, 2) float64\n"
     ]
    }
   ],
   "source": [
    "for M in [Id, X, Y, Z]:\n",
    "    print(M.shape, M.dtype)"
   ]
  },
  {
   "cell_type": "markdown",
   "id": "1a1d2ea4-17d8-4de8-8133-175716383bee",
   "metadata": {},
   "source": [
    "If we consider the Pauli matrices as spin-1/2 operators, we already implicitly assumed the basis to be $\\lvert\\uparrow\\rangle, \\lvert\\downarrow\\rangle$."
   ]
  },
  {
   "cell_type": "code",
   "execution_count": 80,
   "id": "3b336217-4c28-41ce-b351-e15906f68f0c",
   "metadata": {},
   "outputs": [
    {
     "data": {
      "text/plain": [
       "array([1., 0.])"
      ]
     },
     "execution_count": 80,
     "metadata": {},
     "output_type": "execute_result"
    }
   ],
   "source": [
    "up = np.array([1., 0])\n",
    "up"
   ]
  },
  {
   "cell_type": "code",
   "execution_count": 81,
   "id": "a2b446cc-8f55-42e2-8bc0-c4712eb6a4f7",
   "metadata": {},
   "outputs": [
    {
     "data": {
      "text/plain": [
       "array([0., 1.])"
      ]
     },
     "execution_count": 81,
     "metadata": {},
     "output_type": "execute_result"
    }
   ],
   "source": [
    "down = np.array([0., 1.])\n",
    "down"
   ]
  },
  {
   "cell_type": "markdown",
   "id": "ce9d73e7-4c8e-4894-9974-dfb9add88226",
   "metadata": {},
   "source": [
    "## Element-wise operations\n",
    "Element-wise addition of tensors and multiplication/division with scalars works as you might expect."
   ]
  },
  {
   "cell_type": "code",
   "execution_count": 82,
   "id": "e537ae4e-4fd0-4117-b4ab-96568668bc76",
   "metadata": {},
   "outputs": [
    {
     "data": {
      "text/plain": [
       "array([[ 1.,  5.],\n",
       "       [ 5., -1.]])"
      ]
     },
     "execution_count": 82,
     "metadata": {},
     "output_type": "execute_result"
    }
   ],
   "source": [
    "Z + 5 * X"
   ]
  },
  {
   "cell_type": "code",
   "execution_count": 83,
   "id": "b0289b7d-2c78-4882-ba49-98f7f6cd8dbe",
   "metadata": {},
   "outputs": [
    {
     "data": {
      "text/plain": [
       "array([0.70711, 0.70711])"
      ]
     },
     "execution_count": 83,
     "metadata": {},
     "output_type": "execute_result"
    }
   ],
   "source": [
    "plus_x = (up + down) / np.sqrt(2)  # sqrt = square root\n",
    "plus_x"
   ]
  },
  {
   "cell_type": "markdown",
   "id": "b2697293-28ba-43e7-abdb-6e2be7cb24d2",
   "metadata": {},
   "source": [
    "Complex conjugation can be acchieved with `np.conj()` (or the `conj()` method of numpy arrays)."
   ]
  },
  {
   "cell_type": "code",
   "execution_count": 84,
   "id": "1b6d2380-fea2-4425-b9f1-4eb2d7a3a5dd",
   "metadata": {},
   "outputs": [
    {
     "data": {
      "text/plain": [
       "(array([[ 0.+0.j, -0.-1.j],\n",
       "        [ 0.+1.j,  0.+0.j]]),\n",
       " array([[ 0.-0.j, -0.+1.j],\n",
       "        [ 0.-1.j,  0.-0.j]]))"
      ]
     },
     "execution_count": 84,
     "metadata": {},
     "output_type": "execute_result"
    }
   ],
   "source": [
    "Y, np.conj(Y)"
   ]
  },
  {
   "cell_type": "markdown",
   "id": "6f9bbba5-dd3c-4f71-bf3a-1665e2cccc3f",
   "metadata": {},
   "source": [
    "### Exercise: init `minus_x`\n",
    "\n",
    "Initialize the state `minus_x`  $= \\frac{1}{\\sqrt{2}} \\big( \\lvert\\uparrow \\rangle - \\lvert\\downarrow\\rangle \\big)$"
   ]
  },
  {
   "cell_type": "code",
   "execution_count": 85,
   "id": "7940af87-faa4-48fb-bfd7-e676b151bd64",
   "metadata": {},
   "outputs": [
    {
     "data": {
      "text/plain": [
       "array([ 0.70711, -0.70711])"
      ]
     },
     "execution_count": 85,
     "metadata": {},
     "output_type": "execute_result"
    }
   ],
   "source": [
    "minus_x = (up - down) / np.sqrt(2)\n",
    "minus_x"
   ]
  },
  {
   "cell_type": "markdown",
   "id": "887424c9-b3d5-4ecd-9245-cfcdc396fbcc",
   "metadata": {},
   "source": [
    "## Random vector\n",
    "We can also define a small utility function to define a random (complex) vector pointing uniformly in any direction:"
   ]
  },
  {
   "cell_type": "code",
   "execution_count": 86,
   "id": "49e0f906-3578-48ae-a5b7-a531ececc671",
   "metadata": {},
   "outputs": [],
   "source": [
    "def random_vector(size, rng=np.random.default_rng(seed=1234)):\n",
    "    \"\"\"Return a normalized random vector of given shape pointing uniformly in any direction.\"\"\"\n",
    "    vector = rng.normal(size=size) + 1.j * rng.normal(size=size)\n",
    "    return vector / np.linalg.norm(vector)"
   ]
  },
  {
   "cell_type": "code",
   "execution_count": 87,
   "id": "01f4dabc-1057-499d-9865-da04ec5824fe",
   "metadata": {},
   "outputs": [
    {
     "data": {
      "text/plain": [
       "array([-0.45581+0.04337j,  0.01822+0.24548j,  0.21056+0.82791j])"
      ]
     },
     "execution_count": 87,
     "metadata": {},
     "output_type": "execute_result"
    }
   ],
   "source": [
    "random_vector(3)"
   ]
  },
  {
   "cell_type": "markdown",
   "id": "4edce430-be9d-4c6b-8d5f-79946487b0b5",
   "metadata": {},
   "source": [
    "## Leg label convention\n",
    "\n",
    "Note that the order of tensor legs is important; and we need to keep track of it. \n",
    "Libraries like TeNPy can help with that bookkeeping, but here we keep it simple, and just write leg labels as comments in the code.\n",
    "\n",
    "- For ket (vector) indices, we just use short identifiers, e.g. `i`, `j`, `i1`, `i2`, `vL`.\n",
    "- For bra (dual) indices, we use an additional `*`, so calling `conj()` on a tensor toggles stars on all legs, and (square) operators should have       combinations of non-star and star labels.\n",
    "- When contracting (examples further down), we indicate labels that are getting contacted over with square brackets.\n",
    "- When grouping legs (examples further down), we combine labels in round brackets separated by dots, e.g. `(i.j)`."
   ]
  },
  {
   "cell_type": "code",
   "execution_count": 88,
   "id": "3d961ef6-06e0-472b-9f64-040727e43039",
   "metadata": {},
   "outputs": [
    {
     "data": {
      "text/plain": [
       "array([0.70711, 0.70711])"
      ]
     },
     "execution_count": 88,
     "metadata": {},
     "output_type": "execute_result"
    }
   ],
   "source": [
    "plus_x # leg i\n",
    "X # legs i i*\n",
    "np.conj(plus_x) # leg i*"
   ]
  },
  {
   "cell_type": "markdown",
   "id": "12c3ddef-da67-4a92-ade2-401cdbe32781",
   "metadata": {},
   "source": [
    "## More spins and legs, transpose and reshape to combine and split legs\n",
    "\n",
    "When we have more than one spin, the Hilbert space is a an outer product of the local Hilbert spaces. In tensor network language, this corresponds to the fact that we can have one leg per spin.\n",
    "\n",
    "For example, the singlet state $\\frac{1}{\\sqrt{2}}\\big(\\lvert \\uparrow \\rangle \\otimes \\lvert\\downarrow \\rangle - \\lvert \\downarrow \\rangle \\otimes \\lvert\\uparrow \\rangle \\big)$ on two spins could be represented by a two-leg tensor:"
   ]
  },
  {
   "cell_type": "code",
   "execution_count": 89,
   "id": "71d6e1b3-4d5e-4da8-a22e-dc3d57cadf43",
   "metadata": {},
   "outputs": [
    {
     "data": {
      "text/plain": [
       "array([[ 0.     ,  0.70711],\n",
       "       [-0.70711,  0.     ]])"
      ]
     },
     "execution_count": 89,
     "metadata": {},
     "output_type": "execute_result"
    }
   ],
   "source": [
    "singlet = np.zeros([2, 2])  # legs i, j\n",
    "singlet[0, 1] =  1./np.sqrt(2)\n",
    "singlet[1, 0] = -1./np.sqrt(2)\n",
    "singlet"
   ]
  },
  {
   "cell_type": "markdown",
   "id": "38943568-c256-4fce-b05f-3487d684ab38",
   "metadata": {},
   "source": [
    "Alternatively, we can enumerate all possible combinations basis states (in lexiographical order),\n",
    "in the case of two spins $\\lvert\\uparrow\\uparrow\\rangle, \\lvert\\uparrow\\downarrow\\rangle, \\lvert\\downarrow\\uparrow\\rangle, \\lvert\\downarrow\\downarrow\\rangle$, and use a single leg.\n",
    "\n",
    "In other words, we can **combine** (or \"**group**\") the two legs to a single one.\n",
    "For numpy arrays, this corresponds to a `reshape`, taking dimensions `d1` and `d2` of the individual legs to `d1 * d2`. It is merely a re-arranging of the tensors in a different grid, the entries are still the same:"
   ]
  },
  {
   "cell_type": "code",
   "execution_count": 90,
   "id": "66602ef4-bb7b-4110-a109-f9c4b611284f",
   "metadata": {},
   "outputs": [
    {
     "data": {
      "text/plain": [
       "array([ 0.     ,  0.70711, -0.70711,  0.     ])"
      ]
     },
     "execution_count": 90,
     "metadata": {},
     "output_type": "execute_result"
    }
   ],
   "source": [
    "singlet_group = np.reshape(singlet, [2*2]) # legs i j -> (i.j)\n",
    "singlet_group"
   ]
  },
  {
   "cell_type": "markdown",
   "id": "1cd3ee05-027d-47bb-9339-687a4c1f7367",
   "metadata": {},
   "source": [
    "If we remember the order and dimensions of the combined legs, we can split it again by another reshape:"
   ]
  },
  {
   "cell_type": "code",
   "execution_count": 91,
   "id": "2f96f59b-d094-4fad-b761-e706b6d540d3",
   "metadata": {},
   "outputs": [
    {
     "data": {
      "text/plain": [
       "array([[ 0.     ,  0.70711],\n",
       "       [-0.70711,  0.     ]])"
      ]
     },
     "execution_count": 91,
     "metadata": {},
     "output_type": "execute_result"
    }
   ],
   "source": [
    "singlet_split = np.reshape(singlet_group, [2, 2]) #  legs (i.j) -> i j\n",
    "singlet_split"
   ]
  },
  {
   "cell_type": "markdown",
   "id": "955235e2-42ba-4d2a-b52d-7aa5aa2cd7a3",
   "metadata": {},
   "source": [
    "All of this generalizes to multiple legs, as long as we `transpose` legs to be combined next to each other.\n",
    "\n",
    "For example, if we initialize a random vector $\\theta_{a,b,c,d}$ and want to group legs as `a b c d -> (a.c) (b.d)`, we need to transpose first:"
   ]
  },
  {
   "cell_type": "code",
   "execution_count": 92,
   "id": "5524ef3d-bd93-4b8e-a0c8-135108329411",
   "metadata": {},
   "outputs": [
    {
     "name": "stdout",
     "output_type": "stream",
     "text": [
      "(2, 3, 4, 5)\n"
     ]
    }
   ],
   "source": [
    "theta = random_vector([2, 3, 4, 5])  # legs a b c d\n",
    "print(theta.shape)"
   ]
  },
  {
   "cell_type": "code",
   "execution_count": 93,
   "id": "65f18475-cd12-46a2-b295-0fe26e3f30b9",
   "metadata": {},
   "outputs": [
    {
     "data": {
      "text/plain": [
       "(8, 15)"
      ]
     },
     "execution_count": 93,
     "metadata": {},
     "output_type": "execute_result"
    }
   ],
   "source": [
    "theta_group = np.reshape(np.transpose(theta, [0, 2, 1, 3]), # a b c d -> a c b d\n",
    "                         [2*4, 3*5]) # a c b d -> (a.c) (b.d)\n",
    "theta_group.shape"
   ]
  },
  {
   "cell_type": "code",
   "execution_count": 94,
   "id": "85009e8f-c5d6-4460-b386-9ccc878c2054",
   "metadata": {},
   "outputs": [],
   "source": [
    "theta_split = np.reshape(theta_group, [2, 4, 3, 5]) # (a.c) (b.d) -> a c b d"
   ]
  },
  {
   "cell_type": "markdown",
   "id": "c2748951-1359-4f72-a67d-b7cb52f478a4",
   "metadata": {
    "tags": []
   },
   "source": [
    "To get back to the original form, we need to transpose again:"
   ]
  },
  {
   "cell_type": "code",
   "execution_count": 95,
   "id": "f4afaf91-aa36-4d31-b6a1-2c07d85a3504",
   "metadata": {},
   "outputs": [
    {
     "data": {
      "text/plain": [
       "0.0"
      ]
     },
     "execution_count": 95,
     "metadata": {},
     "output_type": "execute_result"
    }
   ],
   "source": [
    "np.linalg.norm(theta_split.transpose([0, 2, 1, 3])  # a c b d -> a b c d\n",
    "               -theta)"
   ]
  },
  {
   "cell_type": "markdown",
   "id": "fabf5b0a-e6ff-4ed6-9fcc-7b6772230f77",
   "metadata": {},
   "source": [
    "### Exercise: reshape\n",
    "\n",
    "Initialize a random vector `psi` with 6 legs of length 2, i.e. shape `(2, 2, 2, 2, 2, 2)`. \n",
    "\n",
    "Afterwards, reshape it into a matrix with each the first and last 3 legs combined.\n",
    "\n",
    "*Tip*: In Python, you can use `[2]*5` to get a list `[2, ..., 2]` with 5 entries, \n",
    "and `2**5` $= 2^5$."
   ]
  },
  {
   "cell_type": "code",
   "execution_count": 96,
   "id": "127e0ab6-71b2-4377-9afa-7c8b61ff75ad",
   "metadata": {},
   "outputs": [
    {
     "data": {
      "text/plain": [
       "(2, 2, 2, 2, 2, 2)"
      ]
     },
     "execution_count": 96,
     "metadata": {},
     "output_type": "execute_result"
    }
   ],
   "source": [
    "psi = random_vector([2]*6)  # i j k l m n \n",
    "psi.shape"
   ]
  },
  {
   "cell_type": "code",
   "execution_count": 97,
   "id": "c8df83fa-3310-40fc-9144-db3bc9ea3fba",
   "metadata": {},
   "outputs": [
    {
     "data": {
      "text/plain": [
       "(8, 8)"
      ]
     },
     "execution_count": 97,
     "metadata": {},
     "output_type": "execute_result"
    }
   ],
   "source": [
    "psi = np.reshape(psi, [2**3, 2**3]) # i j k l m n -> (i.j.k) (l.m.n)\n",
    "psi.shape"
   ]
  },
  {
   "cell_type": "markdown",
   "id": "79bd7296-654f-4188-9f0a-0c6691f353d7",
   "metadata": {},
   "source": [
    "## Contractions with tensordot\n",
    "\n",
    "The `np.tensordot` function performs contractions between two tensors along legs specified in the `axes` argument.\n",
    " \n",
    "For example for the usual matrix-vector product $\\hat{X} \\lvert \\uparrow\\rangle$, we need to contract the second leg (index 1, since we start counting at 0) of `X` with the first (and only, index 0) leg of the `up` vector:"
   ]
  },
  {
   "cell_type": "code",
   "execution_count": 98,
   "id": "b1085e85-9b51-4984-b8e6-3e518c7790f6",
   "metadata": {},
   "outputs": [
    {
     "data": {
      "text/plain": [
       "array([0., 1.])"
      ]
     },
     "execution_count": 98,
     "metadata": {},
     "output_type": "execute_result"
    }
   ],
   "source": [
    "np.tensordot(X, up, axes=(1, 0)) # i [i*], [i] -> i"
   ]
  },
  {
   "cell_type": "markdown",
   "id": "17d06f51-a069-42e4-aff4-3afe21199865",
   "metadata": {},
   "source": [
    "Matrix multiplication looks similar, except that the second and the resulting tensor have one more leg:"
   ]
  },
  {
   "cell_type": "code",
   "execution_count": 99,
   "id": "1a467af4-0950-4628-8b18-a5aeda1f285a",
   "metadata": {},
   "outputs": [
    {
     "data": {
      "text/plain": [
       "array([[0.+1.j, 0.+0.j],\n",
       "       [0.+0.j, 0.-1.j]])"
      ]
     },
     "execution_count": 99,
     "metadata": {},
     "output_type": "execute_result"
    }
   ],
   "source": [
    "np.tensordot(X, Y, axes=(1, 0))  # i [i*], [i] i* -> i i*"
   ]
  },
  {
   "cell_type": "markdown",
   "id": "df541397-b01a-4eb8-be18-fd45a1d8d144",
   "metadata": {},
   "source": [
    "If we contract over all legs, we effectively perform an inner product and obtain a scalar:"
   ]
  },
  {
   "cell_type": "code",
   "execution_count": 100,
   "id": "5349fd63-eff5-42ee-a760-a871f62d77a8",
   "metadata": {},
   "outputs": [
    {
     "data": {
      "text/plain": [
       "array(0.70711)"
      ]
     },
     "execution_count": 100,
     "metadata": {},
     "output_type": "execute_result"
    }
   ],
   "source": [
    "np.tensordot(np.conj(plus_x), up, axes=(0, 0))  # [i*], [i] -> scalar"
   ]
  },
  {
   "cell_type": "markdown",
   "id": "7d663f67-bef0-448e-a1ac-2cfefcba2167",
   "metadata": {},
   "source": [
    "If we set `axes=0`, we obtain an outer product, e.g. if we want to get the operator `ZZ` $= Z_1 \\otimes Z_2$ acting on two spins:"
   ]
  },
  {
   "cell_type": "code",
   "execution_count": 101,
   "id": "be032d25-c88b-4268-8673-592c4b304624",
   "metadata": {},
   "outputs": [],
   "source": [
    "ZZ = np.tensordot(Z, Z, axes=0)  # i i*, j j* -> i i* j j*"
   ]
  },
  {
   "cell_type": "markdown",
   "id": "0717d10b-fb92-43ff-9155-9151354b455d",
   "metadata": {},
   "source": [
    "For printing the result, let us group the in- and outgoing legs:"
   ]
  },
  {
   "cell_type": "code",
   "execution_count": 102,
   "id": "64eacdba-1ab1-4bf7-8e7e-6c695bc9d2ce",
   "metadata": {},
   "outputs": [
    {
     "data": {
      "text/plain": [
       "array([[ 1.,  0.,  0.,  0.],\n",
       "       [ 0., -1.,  0., -0.],\n",
       "       [ 0.,  0., -1., -0.],\n",
       "       [ 0., -0., -0.,  1.]])"
      ]
     },
     "execution_count": 102,
     "metadata": {},
     "output_type": "execute_result"
    }
   ],
   "source": [
    "ZZ_g = np.transpose(ZZ, [0, 2, 1, 3])  # i i* j j* -> i j i* j*\n",
    "ZZ_g = np.reshape(ZZ_g, [2*2, 2*2])    # i j i* j* -> (i.j) (i*.j*)\n",
    "ZZ_g"
   ]
  },
  {
   "cell_type": "markdown",
   "id": "f0c867a0-957c-499c-9767-b0cbd21badbe",
   "metadata": {},
   "source": [
    "Finally, to contract multiple legs, we can pass two lists to `axes`:"
   ]
  },
  {
   "cell_type": "code",
   "execution_count": 103,
   "id": "c5c4ded0-74b1-4bcd-a678-bcd593072d8e",
   "metadata": {},
   "outputs": [
    {
     "data": {
      "text/plain": [
       "(2, 2, 3, 4)"
      ]
     },
     "execution_count": 103,
     "metadata": {},
     "output_type": "execute_result"
    }
   ],
   "source": [
    "ZZ # i i* j j*\n",
    "Theta = random_vector([3, 2, 2, 4]) # a i j b\n",
    "# contract i* of ZZ with \n",
    "ZZ_Theta = np.tensordot(ZZ, Theta, axes=([1, 3], [1, 2])) # i [i*] j [j*], a [i] [j] b -> i j a b\n",
    "ZZ_Theta.shape"
   ]
  },
  {
   "cell_type": "markdown",
   "id": "153f8352-8ad1-4df6-99a9-a3001d243483",
   "metadata": {},
   "source": [
    "### Exercise: contractions\n",
    "\n",
    "- Contract the following expectation values using `tensordot` and check that you get the correct results:\n",
    "  - `<plus_x|plus_x> =?= 1.`\n",
    "  - `<plus_x|X|plus_x> =?= 1.`\n",
    "  - `<plus_x|Z|plus_x> =?= 0.`\n",
    "  "
   ]
  },
  {
   "cell_type": "code",
   "execution_count": 104,
   "id": "afa30bf1-dce9-4abe-9bb7-117a79988bf2",
   "metadata": {},
   "outputs": [
    {
     "data": {
      "text/plain": [
       "array(1.)"
      ]
     },
     "execution_count": 104,
     "metadata": {},
     "output_type": "execute_result"
    }
   ],
   "source": [
    "np.tensordot(np.conj(plus_x), plus_x, axes=[0, 0]) # [i*], [i] -> scalar"
   ]
  },
  {
   "cell_type": "code",
   "execution_count": 105,
   "id": "2e933507-f357-4f44-aaf9-63633278bbf7",
   "metadata": {},
   "outputs": [
    {
     "data": {
      "text/plain": [
       "array(1.)"
      ]
     },
     "execution_count": 105,
     "metadata": {},
     "output_type": "execute_result"
    }
   ],
   "source": [
    "np.tensordot(np.conj(plus_x), # i*\n",
    "             np.tensordot(X, plus_x, axes=[1, 0]),  # i [i*], [i] -> i\n",
    "             axes=[0, 0])  # [i*], [i] -> scalar"
   ]
  },
  {
   "cell_type": "code",
   "execution_count": 106,
   "id": "35340495-7b0d-4981-a3a6-e9f3f6c207c5",
   "metadata": {},
   "outputs": [
    {
     "data": {
      "text/plain": [
       "array(0.)"
      ]
     },
     "execution_count": 106,
     "metadata": {},
     "output_type": "execute_result"
    }
   ],
   "source": [
    "np.tensordot(np.conj(plus_x), # i*\n",
    "             np.tensordot(Z, plus_x, axes=[1, 0]),  # i [i*], [i] -> i\n",
    "             axes=[0, 0])  # [i*], [i] -> scalar"
   ]
  },
  {
   "cell_type": "markdown",
   "id": "ab274679-bdb4-4643-8eb7-fbe43e0087eb",
   "metadata": {},
   "source": [
    "\n",
    "- Define the operator `h` $ = 4 \\vec{S_1} \\cdot \\vec{S_2} = X_1 X_2 + Y_1 Y_2 + Z_1 Z_2 $ with 4 legs.\n"
   ]
  },
  {
   "cell_type": "code",
   "execution_count": 107,
   "id": "3d450e8a-d2c0-42ed-90d6-e3ff8c8ab4ca",
   "metadata": {},
   "outputs": [
    {
     "data": {
      "text/plain": [
       "array([[ 1.,  0.,  0.,  0.],\n",
       "       [ 0., -1.,  2.,  0.],\n",
       "       [ 0.,  2., -1.,  0.],\n",
       "       [ 0.,  0.,  0.,  1.]])"
      ]
     },
     "execution_count": 107,
     "metadata": {},
     "output_type": "execute_result"
    }
   ],
   "source": [
    "h = sum([np.tensordot(A, A, axes=0) for A in (X, Y, Z)])  # i i*, j j* \n",
    "h_g = np.transpose(h, [0, 2, 1, 3])  # i i* j j* -> i j i* j*\n",
    "h_g = np.reshape(h_g, [2*2, 2*2])    # i j i* j* -> (i.j) (i*.j*)\n",
    "np.real_if_close(h_g)"
   ]
  },
  {
   "cell_type": "markdown",
   "id": "45090e1d-84df-4f7e-b264-a4ad9894b049",
   "metadata": {},
   "source": [
    "- Using `tensordot`, contract and check `<singlet|h|singlet> =?= -3`"
   ]
  },
  {
   "cell_type": "code",
   "execution_count": 108,
   "id": "a53b92c3-6754-4805-9b05-d25af90ff4d8",
   "metadata": {},
   "outputs": [
    {
     "data": {
      "text/plain": [
       "array(-3.+0.j)"
      ]
     },
     "execution_count": 108,
     "metadata": {},
     "output_type": "execute_result"
    }
   ],
   "source": [
    "h_singlet = np.tensordot(h, singlet, axes=([1, 3], [0, 1])) # i [i*] j [j*], [i] [j] -> i j\n",
    "singlet_h_singlet = np.tensordot(np.conj(singlet), h_singlet, axes=([0, 1],[0, 1])) # [i*] [j*], [i] [j] -> scalar\n",
    "singlet_h_singlet"
   ]
  },
  {
   "cell_type": "markdown",
   "id": "4ba0a7f8-20d7-4432-aaf8-21a394ae87f8",
   "metadata": {},
   "source": [
    "## Schmidt decomposition with SVD"
   ]
  },
  {
   "cell_type": "markdown",
   "id": "16143401-d426-4c38-88b7-96219a4b8059",
   "metadata": {},
   "source": [
    "The final tool we need are matrix operations, e.g., diagonalization, SVD or QR decomposition.\n",
    "The idea is to just group legs to view the tensor as a matrix and then perform the corresponding operation.\n",
    "\n",
    "The SVD is of particular importance because it eventually allows truncation. We can use it to calculate the entropy of the singlet:"
   ]
  },
  {
   "cell_type": "code",
   "execution_count": 109,
   "id": "6579de4d-83a0-4879-9223-cce6555566bc",
   "metadata": {},
   "outputs": [
    {
     "data": {
      "text/plain": [
       "array([[ 0.     ,  0.70711],\n",
       "       [-0.70711,  0.     ]])"
      ]
     },
     "execution_count": 109,
     "metadata": {},
     "output_type": "execute_result"
    }
   ],
   "source": [
    "# define singlet again, same as above\n",
    "singlet = np.zeros([2, 2])  # i j\n",
    "singlet[0, 1] =  1./np.sqrt(2)\n",
    "singlet[1, 0] = -1./np.sqrt(2)\n",
    "singlet"
   ]
  },
  {
   "cell_type": "code",
   "execution_count": 110,
   "id": "8366fcdb-accc-4005-b4ab-2953840539ae",
   "metadata": {},
   "outputs": [
    {
     "data": {
      "text/plain": [
       "array([0.70711, 0.70711])"
      ]
     },
     "execution_count": 110,
     "metadata": {},
     "output_type": "execute_result"
    }
   ],
   "source": [
    "A, S, B = np.linalg.svd(singlet, full_matrices=False) # i j -> i a, a, a j\n",
    "S  # Schmidt values"
   ]
  },
  {
   "cell_type": "markdown",
   "id": "e43c8c50-8b8a-45b0-b03a-fcf5120ea0f3",
   "metadata": {},
   "source": [
    "We can also get the original tensor back by contracting `A` with `diag(S)` and `B`"
   ]
  },
  {
   "cell_type": "code",
   "execution_count": 111,
   "id": "ddbec137-03f3-498a-87b8-1b0924e18839",
   "metadata": {},
   "outputs": [
    {
     "data": {
      "text/plain": [
       "array([[ 0.     ,  0.70711],\n",
       "       [-0.70711,  0.     ]])"
      ]
     },
     "execution_count": 111,
     "metadata": {},
     "output_type": "execute_result"
    }
   ],
   "source": [
    "contr = np.tensordot(np.diag(S), B, axes=[1, 0]) # a [a*], [a] j -> a j\n",
    "contr = np.tensordot(A, contr, axes=[1, 0]) # i [a], [a] j -> i j\n",
    "contr"
   ]
  },
  {
   "cell_type": "code",
   "execution_count": 112,
   "id": "1a84667a-af65-413a-b896-a232b1240dd5",
   "metadata": {},
   "outputs": [
    {
     "data": {
      "text/plain": [
       "0.9999999999999998"
      ]
     },
     "execution_count": 112,
     "metadata": {},
     "output_type": "execute_result"
    }
   ],
   "source": [
    "np.sum(S*S)  # normalization of the state implies sum(S*S) = 1"
   ]
  },
  {
   "cell_type": "code",
   "execution_count": 113,
   "id": "59c65227-6251-4379-9bc5-9e0b3ec660ac",
   "metadata": {},
   "outputs": [],
   "source": [
    "def entropy(sing_vals):\n",
    "    \"\"\"Return von Neumann entropy.\"\"\"\n",
    "    # first discard small singular values, since 0 * log(0) -> 0\n",
    "    # but log(0) not defined\n",
    "    S = sing_vals[sing_vals>1.e-15]\n",
    "    S2 = S*S\n",
    "    S2 /= np.sum(S2)  # ensure normalization\n",
    "    return - np.sum(S2 * np.log(S2))"
   ]
  },
  {
   "cell_type": "code",
   "execution_count": 114,
   "id": "df8623fe-ba50-43cc-9da2-d2a95337f238",
   "metadata": {},
   "outputs": [
    {
     "data": {
      "text/plain": [
       "1.0"
      ]
     },
     "execution_count": 114,
     "metadata": {},
     "output_type": "execute_result"
    }
   ],
   "source": [
    "entropy(S) / np.log(2)"
   ]
  },
  {
   "cell_type": "markdown",
   "id": "9d12f2ac-f8d3-4d93-ab5f-261836b60fea",
   "metadata": {},
   "source": [
    "## Truncation of Schmidt values\n",
    "\n",
    "Let us now look at at spin system with `L=12` sites,\n",
    "and consider a bipartition into the left 6 and the right 6 spins.\n",
    "\n",
    "We already know how to get a random state with the left and right legs combined:"
   ]
  },
  {
   "cell_type": "code",
   "execution_count": 115,
   "id": "b489da72-df30-45a0-baa8-b5340bba372a",
   "metadata": {},
   "outputs": [],
   "source": [
    "L = 12"
   ]
  },
  {
   "cell_type": "code",
   "execution_count": 116,
   "id": "c65d6cc9-2ab4-468c-8b29-62fa7d105fe3",
   "metadata": {},
   "outputs": [],
   "source": [
    "psi_random = random_vector([2]*L)  # L legs\n",
    "psi_random = np.reshape(psi_random, [2**(L//2), 2**(L//2)])  # combined legs (i0.i1...i{L/2-1}) (i{L/2}...i{L})"
   ]
  },
  {
   "cell_type": "markdown",
   "id": "a74c2181-857f-40cb-ad45-3b873b3497b8",
   "metadata": {},
   "source": [
    "It turns out that random vectors are highly entangled with the entanglement entropy reaching nearly the maximal value $\\frac{L}{2} \\log(2)$:"
   ]
  },
  {
   "cell_type": "code",
   "execution_count": 149,
   "id": "b6b21c51-2900-4e2e-a052-7d84241e0ab5",
   "metadata": {},
   "outputs": [
    {
     "data": {
      "text/plain": [
       "5.282231767294896"
      ]
     },
     "execution_count": 149,
     "metadata": {},
     "output_type": "execute_result"
    }
   ],
   "source": [
    "A_random, S_random, B_random = np.linalg.svd(psi_random, full_matrices=False)\n",
    "entropy(S_random) / np.log(2)"
   ]
  },
  {
   "cell_type": "markdown",
   "id": "42ef5003-bb39-4ce7-be15-b610cf6ea2fa",
   "metadata": {},
   "source": [
    "Ground states of local Hamiltonians behave very differently; in 1D the are law of the entanglement predicts a scaling constant in $L$.\n",
    "(An exception are critical, gapless points where CFT predicts $S \\propto \\log(L)$.)\n",
    "\n",
    "The following snippet uses exact diagonalization (and the Lanczos algorithm) to obtain the ground state of the transverse field ising model with $J=1, g=1.1$. (You can consider it a black bock for now - here we are interested in the properties of the state only.)"
   ]
  },
  {
   "cell_type": "code",
   "execution_count": 134,
   "id": "16fafae8-b956-4bc2-a8c0-17d9e4c9053e",
   "metadata": {},
   "outputs": [
    {
     "data": {
      "text/plain": [
       "(4096,)"
      ]
     },
     "execution_count": 134,
     "metadata": {},
     "output_type": "execute_result"
    }
   ],
   "source": [
    "from tenpy_toycodes.tfi_exact import finite_gs_energy\n",
    "\n",
    "_, psi_ground_state = finite_gs_energy(L=L, J=1., g=1.1, return_psi=True)\n",
    "psi_ground_state.shape"
   ]
  },
  {
   "cell_type": "code",
   "execution_count": 119,
   "id": "c08b51e3-3607-4069-966d-c69b694be19b",
   "metadata": {},
   "outputs": [
    {
     "data": {
      "text/plain": [
       "0.4456153241053844"
      ]
     },
     "execution_count": 119,
     "metadata": {},
     "output_type": "execute_result"
    }
   ],
   "source": [
    "psi_ground_state = np.reshape(psi_ground_state, [2**(L//2), 2**(L//2)]) # combined left and right legs\n",
    "A_ground_state, S_ground_state, B_ground_state = np.linalg.svd(psi_ground_state, full_matrices=False)\n",
    "entropy(S_ground_state) / np.log(2)"
   ]
  },
  {
   "cell_type": "markdown",
   "id": "8bcedc95-0163-4d63-b553-9954e61f09e2",
   "metadata": {},
   "source": [
    "We can see this behaviour reflected in the decay of singular values:"
   ]
  },
  {
   "cell_type": "code",
   "execution_count": 120,
   "id": "e76952d4-401d-459e-9721-15241b22a6c5",
   "metadata": {},
   "outputs": [
    {
     "data": {
      "text/plain": [
       "<matplotlib.legend.Legend at 0x193db8927d0>"
      ]
     },
     "execution_count": 120,
     "metadata": {},
     "output_type": "execute_result"
    },
    {
     "data": {
      "image/png": "[encoded data removed]",
      "text/plain": [
       "<Figure size 600x450 with 1 Axes>"
      ]
     },
     "metadata": {},
     "output_type": "display_data"
    }
   ],
   "source": [
    "plt.figure(figsize=(4,3))\n",
    "plt.plot(S_random, 'o', label='random state')\n",
    "plt.plot(S_ground_state, 's', label='ground state')\n",
    "plt.yscale('log')\n",
    "plt.ylim(1.e-15, 1.)\n",
    "plt.xlim(0, 30)\n",
    "plt.xlabel(r'singular value index $\\alpha$')\n",
    "plt.ylabel(r'singular values $\\lambda_\\alpha$')\n",
    "plt.legend(loc='lower left')"
   ]
  },
  {
   "cell_type": "markdown",
   "id": "a87a7752-b8f7-4d0e-8ed7-7c2f56f770d8",
   "metadata": {},
   "source": [
    "Ultimately, this decay of singular values for ground states is the reason why DMRG and MPS are so highly successfull.\n",
    "It implies that we can truncate the state to much smaller bond dimension and still have large overlap with the initial state:"
   ]
  },
  {
   "cell_type": "code",
   "execution_count": 121,
   "id": "25b44bfd-6601-483b-bba3-08cfe7962404",
   "metadata": {},
   "outputs": [
    {
     "data": {
      "text/plain": [
       "4.0657720745684856e-08"
      ]
     },
     "execution_count": 121,
     "metadata": {},
     "output_type": "execute_result"
    }
   ],
   "source": [
    "chi = 5\n",
    "A_trunc = A_ground_state[:, :chi]\n",
    "S_trunc = S_ground_state[:chi]\n",
    "S_trunc = S_trunc / np.linalg.norm(S_trunc) # normalize to 1 again\n",
    "B_trunc = B_ground_state[:chi, :]\n",
    "psi_trunc = np.tensordot(np.diag(S_trunc), B_trunc, axes=[1, 0]) # a [a*], [a] j -> a j\n",
    "psi_trunc = np.tensordot(A_trunc, psi_trunc, axes=[1, 0]) # i [a], [a] j -> i j\n",
    "overlap = np.tensordot(np.conj(psi_trunc), psi_ground_state, axes=([0, 1], [0, 1])) # [i*] [j*], [i] [j]\n",
    "err = 1. - np.abs(overlap)\n",
    "err"
   ]
  },
  {
   "cell_type": "markdown",
   "id": "a5c56399-fc49-43c6-b05d-e7e8650beaae",
   "metadata": {},
   "source": [
    "### Exercise: truncation\n",
    "\n",
    "Play around with the \"bond dimension\" `chi` of Schmidt values kept above. What is the relation between the largest Schmidt value discared and the `err` above?\n",
    "\n",
    "Try truncating the random state. What is the (absolute value of the) overlap if you keep 32 of the original 64 Schmidt values?"
   ]
  },
  {
   "cell_type": "code",
   "execution_count": 122,
   "id": "a745617f-c84f-4982-991c-aa80a0771d02",
   "metadata": {},
   "outputs": [
    {
     "data": {
      "text/plain": [
       "8.948397578478762e-14"
      ]
     },
     "execution_count": 122,
     "metadata": {},
     "output_type": "execute_result"
    }
   ],
   "source": [
    "chi = 10\n",
    "A_trunc = A_ground_state[:, :chi]\n",
    "S_trunc = S_ground_state[:chi]\n",
    "S_trunc = S_trunc / np.linalg.norm(S_trunc) # normalize to 1 again\n",
    "B_trunc = B_ground_state[:chi, :]\n",
    "psi_trunc = np.tensordot(np.diag(S_trunc), B_trunc, axes=[1, 0]) # a [a*], [a] j -> a j\n",
    "psi_trunc = np.tensordot(A_trunc, psi_trunc, axes=[1, 0]) # i [a], [a] j -> i j\n",
    "overlap = np.tensordot(np.conj(psi_trunc), psi_ground_state, axes=([0, 1], [0, 1])) # [i*] [j*], [i] [j]\n",
    "err = 1. - np.abs(overlap)\n",
    "err"
   ]
  },
  {
   "cell_type": "code",
   "execution_count": 123,
   "id": "fab290ec-c0a2-4063-b5d3-3aa78cda8bb2",
   "metadata": {},
   "outputs": [
    {
     "data": {
      "text/plain": [
       "0.056093873496066315"
      ]
     },
     "execution_count": 123,
     "metadata": {},
     "output_type": "execute_result"
    }
   ],
   "source": [
    "chi = 32\n",
    "A_trunc = A_random[:, :chi]\n",
    "S_trunc = S_random[:chi]\n",
    "S_trunc = S_trunc / np.linalg.norm(S_trunc) # normalize to 1 again\n",
    "B_trunc = B_random[:chi, :]\n",
    "psi_trunc = np.tensordot(np.diag(S_trunc), B_trunc, axes=[1, 0]) # a [a*], [a] j -> a j\n",
    "psi_trunc = np.tensordot(A_trunc, psi_trunc, axes=[1, 0]) # i [a], [a] j -> i j\n",
    "overlap = np.tensordot(np.conj(psi_trunc), psi_random, axes=([0, 1], [0, 1])) # [i*] [j*], [i] [j]\n",
    "1 - np.abs(overlap)\n"
   ]
  },
  {
   "cell_type": "code",
   "execution_count": 130,
   "metadata": {},
   "outputs": [
    {
     "data": {
      "image/png": "[encoded data removed]",
      "text/plain": [
       "<Figure size 600x450 with 1 Axes>"
      ]
     },
     "metadata": {},
     "output_type": "display_data"
    }
   ],
   "source": [
    "\n",
    "n = int(2**(L/2-1)+1)\n",
    "err = np.zeros(n)\n",
    "for i in range(n):\n",
    "    A_trunc = A_ground_state[:, :i]\n",
    "    S_trunc = S_ground_state[:i]\n",
    "    S_trunc = S_trunc / np.linalg.norm(S_trunc) # normalize to 1 again\n",
    "    B_trunc = B_ground_state[:i, :]\n",
    "    psi_trunc = np.tensordot(np.diag(S_trunc), B_trunc, axes=[1, 0]) # a [a*], [a] j -> a j\n",
    "    psi_trunc = np.tensordot(A_trunc, psi_trunc, axes=[1, 0]) # i [a], [a] j -> i j\n",
    "    overlap = np.tensordot(np.conj(psi_trunc), psi_ground_state, axes=([0, 1], [0, 1])) # [i*] [j*], [i] [j]\n",
    "    err[i] = 1 - np.abs(overlap)\n",
    "\n",
    "plt.figure(figsize=(4,3))\n",
    "plt.plot(range(n), err.real, 'o', label='Data')\n",
    "plt.xlabel(r'truncation $x$')\n",
    "plt.ylabel(r'err')\n",
    "plt.yscale('log')\n",
    "plt.title('Ground state')\n",
    "plt.legend()\n",
    "plt.show()"
   ]
  },
  {
   "cell_type": "code",
   "execution_count": 131,
   "id": "3fc14564-3750-4a1e-bc86-245f7e71e06d",
   "metadata": {},
   "outputs": [
    {
     "name": "stdout",
     "output_type": "stream",
     "text": [
      "Fitted parameters: a = -0.08269504527125221 , b = -0.2556117519171743\n"
     ]
    },
    {
     "data": {
      "image/png": "[encoded data removed]",
      "text/plain": [
       "<Figure size 600x450 with 1 Axes>"
      ]
     },
     "metadata": {},
     "output_type": "display_data"
    },
    {
     "name": "stdout",
     "output_type": "stream",
     "text": [
      "0.056093873496066315\n"
     ]
    }
   ],
   "source": [
    "from scipy.optimize import curve_fit\n",
    "\n",
    "n = int(2**(L/2-1)+1)\n",
    "err = np.zeros(n)\n",
    "for i in range(n):\n",
    "    A_trunc = A_random[:, :i]\n",
    "    S_trunc = S_random[:i]\n",
    "    S_trunc = S_trunc / np.linalg.norm(S_trunc) # normalize to 1 again\n",
    "    B_trunc = B_random[:i, :]\n",
    "    psi_trunc = np.tensordot(np.diag(S_trunc), B_trunc, axes=[1, 0]) # a [a*], [a] j -> a j\n",
    "    psi_trunc = np.tensordot(A_trunc, psi_trunc, axes=[1, 0]) # i [a], [a] j -> i j\n",
    "    overlap = np.tensordot(np.conj(psi_trunc), psi_random, axes=([0, 1], [0, 1])) # [i*] [j*], [i] [j]\n",
    "    err[i] = 1 - np.abs(overlap)\n",
    "\n",
    "# Define the exponential function\n",
    "def exponential_func(x, a, b):\n",
    "    return np.exp(a * x + b)\n",
    "\n",
    "# Fit the curve with the exponential function\n",
    "popt, pcov = curve_fit(exponential_func, range(1, n), err[1:])\n",
    "\n",
    "# Print the fitted parameters\n",
    "print(\"Fitted parameters: a =\", popt[0], \", b =\", popt[1])\n",
    "\n",
    "# Generate the fitted curve\n",
    "fit_err = exponential_func(range(1, n), *popt)\n",
    "\n",
    "plt.figure(figsize=(4,3))\n",
    "plt.plot(range(1, n), err[1:], 'o', label='Data')\n",
    "plt.plot(range(1, n), fit_err, label='Fit_slop = {:.3f}'.format(popt[0]))\n",
    "plt.yscale('log')\n",
    "plt.xlabel(r'truncation $x$')\n",
    "plt.ylabel(r'err')\n",
    "plt.title('Random state')\n",
    "plt.legend()\n",
    "plt.show()\n",
    "\n",
    "print(err[-1])\n"
   ]
  },
  {
   "cell_type": "markdown",
   "id": "344bccbb-e47a-4b63-9b69-17123b78422f",
   "metadata": {},
   "source": [
    "### Exercises (optional, if time left - for the experts, and those who want to become them)\n",
    "\n",
    "- What is the maximal entropy that one can represent with $\\chi$ Schmidt states? \n",
    "  (You can solve this analytically!)\n",
    "\n",
    "  \n"
   ]
  },
  {
   "cell_type": "markdown",
   "metadata": {},
   "source": [
    "\n",
    "$$\n",
    "D_\\Sigma = 2^\\frac{L}{2}\n",
    "$$\n",
    "$$\n",
    "\\text{Entangled Entropy(half chain)} = -Tr(\\Sigma^2\\ln\\Sigma^2)\n",
    "$$\n",
    "$$\n",
    "\\text{notice that:}\\quad x^x \\ge \\frac{1}{e}^\\frac{1}{e} \\approx0.6922 \n",
    "$$\n",
    "$$\n",
    "\\text{so}\\quad\\ln{\\Sigma^2}^{\\Sigma^2} \\ge -0.3678794411714423 \n",
    "$$\n",
    "$$\n",
    "\\text{Entangled Entropy(half chain)} \\le 2^\\frac{L}{2}\\times 0.3678794411714423\n",
    "$$"
   ]
  },
  {
   "cell_type": "code",
   "execution_count": 132,
   "metadata": {},
   "outputs": [
    {
     "name": "stdout",
     "output_type": "stream",
     "text": [
      "0.6922006275553464\n",
      "-0.3678794411714423\n",
      "4.1588830833596715\n",
      "23.544284234972306\n"
     ]
    }
   ],
   "source": [
    "print(np.float_power(1./np.e,1./np.e))\n",
    "print(np.log(np.float_power(1./np.e,1./np.e)))\n",
    "print(np.log(2)*L/2)\n",
    "print(np.log(1/np.float_power(1./np.e,1./np.e))*2**(L/2))"
   ]
  },
  {
   "cell_type": "code",
   "execution_count": null,
   "id": "950535dd-32dc-488d-b584-1be6d4278776",
   "metadata": {},
   "outputs": [],
   "source": []
  },
  {
   "cell_type": "markdown",
   "id": "1fca3123-4735-4ae9-a296-ac92c6639768",
   "metadata": {},
   "source": [
    "- Find the half-chain entanglement entropy of the following states for differrent system sizes $L=6,8,10,12,14$ and\n",
    "  - random states as defined above\n",
    "  - ground states of the transverse field Ising model at $g = 1.2 J$, $g=0.8J$ and the critical point $g=J$.\n",
    "  \n",
    "  Plot curves of $S$ versus $L$. (Where) can you see the area law?"
   ]
  },
  {
   "cell_type": "code",
   "execution_count": 150,
   "id": "70ae8fa8-a7f4-4daf-aea7-adf7e7310aab",
   "metadata": {},
   "outputs": [
    {
     "data": {
      "image/png": "[encoded data removed]",
      "text/plain": [
       "<Figure size 1200x900 with 1 Axes>"
      ]
     },
     "metadata": {},
     "output_type": "display_data"
    }
   ],
   "source": [
    "\n",
    "# Define the function to calculate the entanglement entropy\n",
    "def entanglement_entropy(psi):\n",
    "    _, S, _ = np.linalg.svd(psi, full_matrices=True)\n",
    "    S = S[S > 1.e-20]\n",
    "    S_normalized = S / np.linalg.norm(S)\n",
    "    S_squared = S_normalized ** 2\n",
    "    entropy = -np.sum(S_squared * np.log(S_squared))\n",
    "    return entropy\n",
    "\n",
    "# Define the system sizes\n",
    "system_sizes = [6, 8, 10, 12, 14]\n",
    "\n",
    "# Define the states\n",
    "random_states = [np.reshape(random_vector([2]*L), [2**(L//2), 2**(L//2)]) for L in system_sizes]\n",
    "psi_ground_state_g1p2 = [np.reshape(finite_gs_energy(L=L, J=1., g=1.2, return_psi=True)[1], [2**(L//2), 2**(L//2)]) for L in system_sizes]\n",
    "psi_ground_state_g0p8 = [np.reshape(finite_gs_energy(L=L, J=1., g=0.8, return_psi=True)[1], [2**(L//2), 2**(L//2)]) for L in system_sizes]\n",
    "psi_ground_state_g1 = [np.reshape(finite_gs_energy(L=L, J=1., g=1., return_psi=True)[1], [2**(L//2), 2**(L//2)]) for L in system_sizes]\n",
    "ising_states = [psi_ground_state_g1p2, psi_ground_state_g0p8, psi_ground_state_g1]\n",
    "\n",
    "# Calculate the entanglement entropy for each state and system size\n",
    "random_entropies = [entanglement_entropy(state) for state in random_states]\n",
    "\n",
    "# Initialize ising_entropies as a list of lists\n",
    "ising_entropies = [[0 for _ in range(len(system_sizes))] for _ in range(len(ising_states))]\n",
    "\n",
    "# Calculate the entanglement entropy for each state and system size\n",
    "for i in range(len(ising_states)):\n",
    "    for j in range(len(system_sizes)):\n",
    "        ising_entropies[i][j] = entanglement_entropy(ising_states[i][j])\n",
    "\n",
    "# Plot the entanglement entropy versus system size\n",
    "plt.figure(figsize=(8, 6))\n",
    "plt.plot(system_sizes, random_entropies, 'o-', label='Random States')\n",
    "plt.plot(system_sizes, ising_entropies[0], 's-', label='Ising Model (g=1.2J)')\n",
    "plt.plot(system_sizes, ising_entropies[1], '^-', label='Ising Model (g=0.8J)')\n",
    "plt.plot(system_sizes, ising_entropies[2], 'x-', label='Ising Model (g=J)')\n",
    "plt.xlabel('System Size (L)')\n",
    "plt.ylabel('Entanglement Entropy (S)')\n",
    "plt.title('half-chain Entanglement Entropy vs System Size')\n",
    "plt.legend()\n",
    "plt.show()\n"
   ]
  },
  {
   "cell_type": "code",
   "execution_count": null,
   "id": "5e3a2b5c-166a-4d75-bcd3-d54a6e069217",
   "metadata": {},
   "outputs": [],
   "source": []
  }
 ],
 "metadata": {
  "kernelspec": {
   "display_name": "Python 3 (ipykernel)",
   "language": "python",
   "name": "python3"
  },
  "language_info": {
   "codemirror_mode": {
    "name": "ipython",
    "version": 3
   },
   "file_extension": ".py",
   "mimetype": "text/x-python",
   "name": "python",
   "nbconvert_exporter": "python",
   "pygments_lexer": "ipython3",
   "version": "3.11.5"
  }
 },
 "nbformat": 4,
 "nbformat_minor": 5
}
