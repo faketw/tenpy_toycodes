{
 "cells": [
  {
   "cell_type": "markdown",
   "id": "2fe29049",
   "metadata": {},
   "source": [
    "# Solutions for the `exercise_toycodes.ipynb` notebook"
   ]
  },
  {
   "cell_type": "markdown",
   "id": "39301469",
   "metadata": {},
   "source": [
    "Uncomment and run the cells below (removing the `#`) when running this notebook on https://colab.research.google.com.\n",
    "\n",
    "Alternatively, you can run this notebook locally with jupyter, provided that you have the `toycodes` subfolder from \n",
    "https://github.com/tenpy/tenpy_toycodes\n",
    "in the same folder as your notebook."
   ]
  },
  {
   "cell_type": "code",
   "execution_count": 1,
   "id": "8d42e939",
   "metadata": {},
   "outputs": [],
   "source": [
    "#!pip install git+https://github.com/tenpy/tenpy_toycodes.git\n",
    "\n",
    "# use `pip uninstall tenpy-toycodes` to remove it a gain."
   ]
  },
  {
   "cell_type": "markdown",
   "id": "e7d5c720",
   "metadata": {},
   "source": [
    "This tutorial focuses on a set of toy codes (using only python with numpy + scipy) that provide a simple implementation of the various MPS algorithms.\n",
    "\n",
    "You can add your code below by inserting additional cells as neccessary and running them (press Shift+Enter).\n",
    "\n",
    "**DISCLAIMER**: the toy codes used are not optimized, and we only use very small bond dimensions here. For state-of-the-art MPS calculations (especially for cylinders towards 2D), `chi` should be significantly larger, often on the order of several 1000s."
   ]
  },
  {
   "cell_type": "code",
   "execution_count": null,
   "id": "56956a97",
   "metadata": {},
   "outputs": [],
   "source": []
  },
  {
   "cell_type": "code",
   "execution_count": 2,
   "id": "b7d6aedd",
   "metadata": {},
   "outputs": [],
   "source": [
    "import numpy as np\n",
    "import scipy\n",
    "import matplotlib.pyplot as plt\n",
    "\n",
    "np.set_printoptions(precision=5, suppress=True, linewidth=100)\n",
    "plt.rcParams['figure.dpi'] = 150"
   ]
  },
  {
   "cell_type": "markdown",
   "id": "337e0452",
   "metadata": {},
   "source": [
    "# toy codes: a_mps.py\n",
    "\n",
    "The file [a_mps.py](https://github.com/tenpy/tenpy_toycodes/blob/main/toycodes/a_mps.py) defines a `SimpleMPS` class, that provides methods for expectation values and the entanglement entropy. You can initialize an inital product state MPS with the provided functions `init_FM_MPS` or `init_Neel_MPS`:"
   ]
  },
  {
   "cell_type": "code",
   "execution_count": 3,
   "id": "8b2cfaee",
   "metadata": {},
   "outputs": [],
   "source": [
    "from toycodes.a_mps import init_FM_MPS, init_Neel_MPS, SimpleMPS"
   ]
  },
  {
   "cell_type": "code",
   "execution_count": 4,
   "id": "a4f0ecc0",
   "metadata": {},
   "outputs": [
    {
     "name": "stdout",
     "output_type": "stream",
     "text": [
      "<toycodes.a_mps.SimpleMPS object at 0x7ff8348f1fc0>\n",
      "[1. 1. 1. 1. 1. 1. 1. 1. 1. 1.]\n"
     ]
    }
   ],
   "source": [
    "psi_FM = init_FM_MPS(L=10, d=2, bc='finite')\n",
    "print(psi_FM)\n",
    "SigmaZ = np.diag([1., -1.])\n",
    "print(psi_FM.site_expectation_value(SigmaZ))"
   ]
  },
  {
   "cell_type": "markdown",
   "id": "8b77ba98",
   "metadata": {},
   "source": [
    "### Exercise\n",
    "Initialize a Neel state MPS. Print the `SigmaZ` expectation values.\n",
    "\n",
    "\n",
    "Print the entanglement entropy. What do you expect? Why do you get so many numbers, and not just one?\n",
    "Tipp: read the code ;-)\n",
    "\n",
    "Extract the half-chain entanglement entropy, i.e., the entropy when cutting the chain into two equal-length halves."
   ]
  },
  {
   "cell_type": "code",
   "execution_count": 5,
   "id": "667882c2",
   "metadata": {},
   "outputs": [
    {
     "name": "stdout",
     "output_type": "stream",
     "text": [
      "[ 1. -1.  1. -1.  1. -1.  1. -1.  1. -1.]\n"
     ]
    }
   ],
   "source": [
    "psi_Neel = init_Neel_MPS(L=10, d=2, bc='finite')\n",
    "print(psi_Neel.site_expectation_value(SigmaZ))"
   ]
  },
  {
   "cell_type": "code",
   "execution_count": 6,
   "id": "9a255d8e",
   "metadata": {},
   "outputs": [
    {
     "name": "stdout",
     "output_type": "stream",
     "text": [
      "[-0. -0. -0. -0. -0. -0. -0. -0. -0.]\n",
      "half-chain entropy:  -0.0\n"
     ]
    }
   ],
   "source": [
    "print(psi_Neel.entanglement_entropy())  # one for each bond!\n",
    "print(\"half-chain entropy: \", psi_Neel.entanglement_entropy()[(psi_Neel.L - 1)//2])"
   ]
  },
  {
   "cell_type": "code",
   "execution_count": null,
   "id": "7905b006-9232-437a-a3aa-ba75eb6bb96a",
   "metadata": {},
   "outputs": [],
   "source": []
  },
  {
   "cell_type": "markdown",
   "id": "fa01d6ed-36fd-4e7c-8a24-5d3197be1d2e",
   "metadata": {},
   "source": [
    "### Exercise\n",
    "\n",
    "Write a function to initialize an MPS representing a product of singlets on neighboring sites.\n",
    "Check the expectation values of $\\sigma^z$, entropies and the correlation functions $\\sigma^z_0 \\sigma^z_1$ and $\\sigma^z_0 \\sigma^z_2$ for correctness.\n"
   ]
  },
  {
   "cell_type": "code",
   "execution_count": 7,
   "id": "a5c60fcb-6399-4985-90a8-ed441aad73ad",
   "metadata": {},
   "outputs": [],
   "source": [
    "def init_singlet_MPS(L, bc='finite'):\n",
    "    \"\"\"Return a Neel state MPS (= product state with alternating spins up  down up down... )\"\"\"\n",
    "    Bs = []\n",
    "    Ss = []\n",
    "    for i in range(L):\n",
    "        if i % 2 == 0:      \n",
    "            B = np.zeros([1, 2, 2], dtype=float)\n",
    "            B[0, 0, 1] = 0.5**0.5\n",
    "            B[0, 1, 0] = - 0.5**0.5\n",
    "            S = np.ones([1], dtype=float)\n",
    "        else:\n",
    "            B = np.zeros([2, 2, 1], dtype=float)\n",
    "            B[0, 0, 0] = 1.\n",
    "            B[1, 1, 0] = 1.\n",
    "            S = 0.5**0.5 * np.ones([2], dtype=float)\n",
    "        Bs.append(B)\n",
    "        Ss.append(S)\n",
    "    return SimpleMPS(Bs, Ss, bc=bc)"
   ]
  },
  {
   "cell_type": "code",
   "execution_count": 8,
   "id": "5b5ec318-5492-4aae-b377-fb47af4ab3d4",
   "metadata": {},
   "outputs": [
    {
     "name": "stdout",
     "output_type": "stream",
     "text": [
      "[0. 0. 0. 0. 0. 0. 0. 0. 0. 0.]\n",
      "[ 0.69315 -0.       0.69315 -0.       0.69315 -0.       0.69315 -0.       0.69315]\n",
      "-1.0000000000000002\n",
      "0.0\n"
     ]
    }
   ],
   "source": [
    "psi_singlet = init_singlet_MPS(L=10, bc='finite')\n",
    "print(psi_singlet.site_expectation_value(SigmaZ))\n",
    "print(psi_singlet.entanglement_entropy())  # one for each bond!\n",
    "print(psi_singlet.correlation_function(SigmaZ, 0, SigmaZ, 1))\n",
    "print(psi_singlet.correlation_function(SigmaZ, 0, SigmaZ, 2))\n",
    "\n"
   ]
  },
  {
   "cell_type": "markdown",
   "id": "0966eb59",
   "metadata": {},
   "source": [
    "# toy codes: b_model.py\n",
    "\n",
    "The file [b_model.py](https://github.com/tenpy/tenpy_toycodes/blob/main/toycodes/b_model.py) defines a `TFIModel` class representing the transverse field Ising model        \n",
    "$$H = - J \\sum_{i} \\sigma^x_i \\sigma^x_{i+1} - g \\sum_{i} \\sigma^z_i$$\n",
    "\n",
    "\n",
    "that provides both in the form of bond-terms `H_bonds` (as required for TEBD) and in the form of an MPO `H_mpo`.\n",
    "You can use `H_bonds` with `SimpleMPS.bond_expectation_values` to evalue the energy.\n"
   ]
  },
  {
   "cell_type": "code",
   "execution_count": 9,
   "id": "d439f112",
   "metadata": {},
   "outputs": [
    {
     "name": "stdout",
     "output_type": "stream",
     "text": [
      "<H_bonds> =  [-1.8 -1.2 -1.2 -1.2 -1.2 -1.2 -1.2 -1.2 -1.8]\n",
      "energy: -12.0\n"
     ]
    }
   ],
   "source": [
    "from toycodes.b_model import TFIModel\n",
    "\n",
    "model = TFIModel(L=10, J=1., g=1.2, bc='finite')\n",
    "\n",
    "print(\"<H_bonds> = \", psi_FM.bond_expectation_value(model.H_bonds))\n",
    "print(\"energy:\", np.sum(psi_FM.bond_expectation_value(model.H_bonds)))\n",
    "# (make sure the model and state have the same length and boundary conditions!)"
   ]
  },
  {
   "cell_type": "markdown",
   "id": "017d4d67",
   "metadata": {},
   "source": [
    "### Exercise\n",
    "\n",
    "Check the energies for the Neel state and make sure it matches what you expect."
   ]
  },
  {
   "cell_type": "code",
   "execution_count": 10,
   "id": "d0ef22db",
   "metadata": {},
   "outputs": [
    {
     "name": "stdout",
     "output_type": "stream",
     "text": [
      "energy Neel: 0.0\n"
     ]
    }
   ],
   "source": [
    "E = sum(psi_Neel.bond_expectation_value(model.H_bonds))\n",
    "print(\"energy Neel:\", E)"
   ]
  },
  {
   "cell_type": "markdown",
   "id": "bd218561",
   "metadata": {},
   "source": [
    "# toy codes: c_tebd.py\n",
    "\n",
    "The file [c_tebd.py](https://github.com/tenpy/tenpy_toycodes/blob/main/toycodes/c_tebd.py) implements the TEBD algorithm. \n",
    "\n",
    "You can run TEBD with imaginary time evolutinon to find the ground state like this:"
   ]
  },
  {
   "cell_type": "code",
   "execution_count": 11,
   "id": "d6c0d701",
   "metadata": {},
   "outputs": [],
   "source": [
    "from toycodes.c_tebd import calc_U_bonds, run_TEBD"
   ]
  },
  {
   "cell_type": "code",
   "execution_count": 12,
   "id": "2e8f7a57",
   "metadata": {},
   "outputs": [
    {
     "name": "stdout",
     "output_type": "stream",
     "text": [
      "dt = 0.10000: E = -13.8961736999420\n",
      "dt = 0.01000: E = -13.9426174381013\n",
      "dt = 0.00100: E = -13.9468093868658\n",
      "dt = 0.00010: E = -13.9472306540642\n",
      "dt = 0.00001: E = -13.9472728040471\n",
      "final bond dimensions:  [2, 4, 8, 14, 15, 14, 8, 4, 2]\n",
      "magnetization in X = -0.00000\n",
      "magnetization in Z = 8.24005\n"
     ]
    }
   ],
   "source": [
    "# assuming you defined a `model`\n",
    "\n",
    "chi_max = 15\n",
    "\n",
    "psi = init_FM_MPS(model.L, model.d, model.bc)\n",
    "for dt in [0.1, 0.01, 0.001, 1.e-4, 1.e-5]:\n",
    "    U_bonds = calc_U_bonds(model.H_bonds, dt)\n",
    "    run_TEBD(psi, U_bonds, N_steps=100, chi_max=chi_max, eps=1.e-10)\n",
    "    E = np.sum(psi.bond_expectation_value(model.H_bonds))\n",
    "    print(\"dt = {dt:.5f}: E = {E:.13f}\".format(dt=dt, E=E))\n",
    "# the `run_TEBD` modified `psi`, so we can now calculate the expectation values from it\n",
    "print(\"final bond dimensions: \", psi.get_chi())\n",
    "mag_x = np.sum(psi.site_expectation_value(model.sigmax))\n",
    "mag_z = np.sum(psi.site_expectation_value(model.sigmaz))\n",
    "print(\"magnetization in X = {mag_x:.5f}\".format(mag_x=mag_x))\n",
    "print(\"magnetization in Z = {mag_z:.5f}\".format(mag_z=mag_z))\n"
   ]
  },
  {
   "cell_type": "markdown",
   "id": "a4785dbd-afd4-436b-ae11-178992509837",
   "metadata": {},
   "source": [
    "### Exercise\n",
    "\n",
    "Read the code of [c_tebd.py](https://github.com/tenpy/tenpy_toycodes/blob/main/toycodes/c_tebd.py) and try to understand the general structure of how it works.\n"
   ]
  },
  {
   "cell_type": "markdown",
   "id": "bb7b318b",
   "metadata": {},
   "source": [
    "# toy codes: d_dmrg.py\n",
    "\n",
    "The file [d_dmrg.py](https://github.com/jhauschild/WinterschoolBarcelona2021/blob/main/toycodes/d_dmrg.py) implements the DMRG algorithm.\n",
    "It can be called like this:"
   ]
  },
  {
   "cell_type": "code",
   "execution_count": 13,
   "id": "3196f562",
   "metadata": {},
   "outputs": [],
   "source": [
    "from toycodes.d_dmrg import SimpleDMRGEngine, SimpleHeff2"
   ]
  },
  {
   "cell_type": "code",
   "execution_count": 14,
   "id": "ffc67843",
   "metadata": {},
   "outputs": [
    {
     "name": "stdout",
     "output_type": "stream",
     "text": [
      "sweep  1: E = -13.9509765898788\n",
      "sweep  2: E = -13.9473400229047\n",
      "sweep  3: E = -13.9473400175491\n",
      "sweep  4: E = -13.9473400175491\n",
      "sweep  5: E = -13.9473400175491\n",
      "sweep  6: E = -13.9473400175491\n",
      "sweep  7: E = -13.9473400175491\n",
      "sweep  8: E = -13.9473400175491\n",
      "sweep  9: E = -13.9473400175491\n",
      "sweep 10: E = -13.9473400175491\n",
      "final bond dimensions:  [2, 4, 8, 14, 15, 14, 8, 4, 2]\n",
      "magnetization in X = 0.00000\n",
      "magnetization in Z = 0.82406\n"
     ]
    }
   ],
   "source": [
    "chi_max = 15\n",
    "\n",
    "psi = init_FM_MPS(model.L, model.d, model.bc)\n",
    "eng = SimpleDMRGEngine(psi, model, chi_max=chi_max, eps=1.e-10)\n",
    "for i in range(10):\n",
    "    E_dmrg = eng.sweep()\n",
    "    E = np.sum(psi.bond_expectation_value(model.H_bonds))\n",
    "    print(\"sweep {i:2d}: E = {E:.13f}\".format(i=i + 1, E=E))\n",
    "print(\"final bond dimensions: \", psi.get_chi())\n",
    "mag_x = np.mean(psi.site_expectation_value(model.sigmax))\n",
    "mag_z = np.mean(psi.site_expectation_value(model.sigmaz))\n",
    "print(\"magnetization in X = {mag_x:.5f}\".format(mag_x=mag_x))\n",
    "print(\"magnetization in Z = {mag_z:.5f}\".format(mag_z=mag_z))"
   ]
  },
  {
   "cell_type": "markdown",
   "id": "b0eee6bf",
   "metadata": {},
   "source": [
    "### Exercise\n",
    "\n",
    "Read the code of [d_dmrg.py](https://github.com/tenpy/tenpy_toycodes/blob/main/toycodes/d_dmrg.py) and try to understand the general structure of how it works.\n"
   ]
  },
  {
   "cell_type": "markdown",
   "id": "dbd12c50",
   "metadata": {},
   "source": [
    "### Exercise\n",
    "\n",
    "Compare running the code cells for DMRG and imaginary time evolution TEBD abovce for various parameters \n",
    "of `L`, `J`, `g`, and `bc`. Which one is faster? Do they always agree?\n",
    "\n",
    "Note: \n",
    "The transverse field Ising model has a quantum phase transition at $g/J = 1.$,\n",
    "from a ferro-magnetic phase (`g < J `) to a paramagnetic phase (`g > J`). We will map out the full phase diagram below."
   ]
  },
  {
   "cell_type": "code",
   "execution_count": 15,
   "id": "b4e7e445",
   "metadata": {},
   "outputs": [],
   "source": [
    "model = TFIModel(L=20, J=1., g=1.0, bc='finite')"
   ]
  },
  {
   "cell_type": "code",
   "execution_count": 16,
   "id": "cbf84fcc",
   "metadata": {},
   "outputs": [
    {
     "name": "stdout",
     "output_type": "stream",
     "text": [
      "sweep  1: E = -25.1272191859687\n",
      "sweep  2: E = -25.1078066942273\n",
      "sweep  3: E = -25.1077971116272\n",
      "sweep  4: E = -25.1077971116245\n",
      "sweep  5: E = -25.1077971116245\n",
      "sweep  6: E = -25.1077971116245\n",
      "sweep  7: E = -25.1077971116245\n",
      "sweep  8: E = -25.1077971116245\n",
      "sweep  9: E = -25.1077971116245\n",
      "sweep 10: E = -25.1077971116245\n",
      "final bond dimensions:  [2, 4, 8, 15, 15, 15, 15, 15, 15, 15, 15, 15, 15, 15, 15, 15, 8, 4, 2]\n",
      "magnetization in X = -0.00000\n",
      "magnetization in Z = 0.69494\n"
     ]
    }
   ],
   "source": [
    "chi_max = 15\n",
    "\n",
    "psi = init_FM_MPS(model.L, model.d, model.bc)\n",
    "eng = SimpleDMRGEngine(psi, model, chi_max=chi_max, eps=1.e-10)\n",
    "for i in range(10):\n",
    "    E_dmrg = eng.sweep()\n",
    "    E = np.sum(psi.bond_expectation_value(model.H_bonds))\n",
    "    print(\"sweep {i:2d}: E = {E:.13f}\".format(i=i + 1, E=E))\n",
    "print(\"final bond dimensions: \", psi.get_chi())\n",
    "mag_x = np.mean(psi.site_expectation_value(model.sigmax))\n",
    "mag_z = np.mean(psi.site_expectation_value(model.sigmaz))\n",
    "print(\"magnetization in X = {mag_x:.5f}\".format(mag_x=mag_x))\n",
    "print(\"magnetization in Z = {mag_z:.5f}\".format(mag_z=mag_z))"
   ]
  },
  {
   "cell_type": "markdown",
   "id": "8717f6a4",
   "metadata": {},
   "source": [
    "# Infinite DMRG\n",
    "\n",
    "The `SimpleDMRG` code also allows to run infinite DMRG, simply by replacing the `bc='finite'` for both the model and the MPS. Look at the implementation of `d_dmrg.py` to see where the differences are.\n",
    "\n",
    "The `L` parameter now just indices the number of tensors insite the unit cell of the infinite MPS.\n",
    "It has to be at least `2`, since we optimize 2 tensors at once in our DMRG code.\n",
    "Further, note that we now use the `mean` to calculate densities of observables instead of extensive quantities (like L)."
   ]
  },
  {
   "cell_type": "code",
   "execution_count": 17,
   "id": "76ab2cc8",
   "metadata": {},
   "outputs": [],
   "source": [
    "model = TFIModel(L=2, J=1., g=0.2, bc='infinite')"
   ]
  },
  {
   "cell_type": "code",
   "execution_count": 18,
   "id": "717abeee",
   "metadata": {},
   "outputs": [
    {
     "name": "stdout",
     "output_type": "stream",
     "text": [
      "sweep  1: E/L = -1.0257321728263\n",
      "sweep  2: E/L = -1.0101679578537\n",
      "sweep  3: E/L = -1.0100254885275\n",
      "sweep  4: E/L = -1.0100257934837\n",
      "sweep  5: E/L = -1.4821583410940\n",
      "sweep  6: E/L = -1.0100257588541\n",
      "sweep  7: E/L = -1.0100252539846\n",
      "sweep  8: E/L = -1.0100252539846\n",
      "sweep  9: E/L = -1.0100252539846\n",
      "sweep 10: E/L = -1.0100252539846\n",
      "final bond dimensions:  [3, 3]\n",
      "magnetization in X = -0.99491\n",
      "magnetization in Z = 0.10051\n"
     ]
    }
   ],
   "source": [
    "chi_max = 10\n",
    "\n",
    "psi = init_FM_MPS(model.L, model.d, model.bc)\n",
    "eng = SimpleDMRGEngine(psi, model, chi_max=chi_max, eps=1.e-7)\n",
    "for i in range(10):\n",
    "    E_dmrg = eng.sweep()\n",
    "    E = np.mean(psi.bond_expectation_value(model.H_bonds))\n",
    "    print(\"sweep {i:2d}: E/L = {E:.13f}\".format(i=i + 1, E=E))\n",
    "print(\"final bond dimensions: \", psi.get_chi())\n",
    "mag_x = np.mean(psi.site_expectation_value(model.sigmax))\n",
    "mag_z = np.mean(psi.site_expectation_value(model.sigmaz))\n",
    "print(\"magnetization in X = {mag_x:.5f}\".format(mag_x=mag_x))\n",
    "print(\"magnetization in Z = {mag_z:.5f}\".format(mag_z=mag_z))"
   ]
  },
  {
   "cell_type": "markdown",
   "id": "1b260440",
   "metadata": {},
   "source": [
    "### Exercise\n",
    "\n",
    "Extend the following function `run_DMRG` to initialize an MPS compatible with the model, run DMRG on that MPS and return the corresponding state."
   ]
  },
  {
   "cell_type": "code",
   "execution_count": 19,
   "id": "b76969aa",
   "metadata": {},
   "outputs": [],
   "source": [
    "def run_DMRG(model, chi_max=50):\n",
    "    print(f\"runnning DMRG for L={model.L:d}, g={model.g:.2f}, bc={model.bc}, chi_max={chi_max:d}\")\n",
    "    #raise NotImplementedError(\"TODO: this is an Exercise!\")\n",
    "    \n",
    "    psi = init_FM_MPS(model.L, model.d, model.bc)\n",
    "    eng = SimpleDMRGEngine(psi, model, chi_max=chi_max, eps=1.e-10)\n",
    "    for i in range(10):\n",
    "        eng.sweep()\n",
    "        E_bond = psi.bond_expectation_value(model.H_bonds)\n",
    "        if model.bc == 'finite': \n",
    "            E = np.sum(E_bond)\n",
    "        else:\n",
    "            E = np.mean(E_bond)\n",
    "        #print(\"sweep {i:2d}: E = {E:.13f}\".format(i=i + 1, E=E))\n",
    "    print(f\"max chi ={max(psi.get_chi())}\")\n",
    "    return psi"
   ]
  },
  {
   "cell_type": "markdown",
   "id": "e9b9796c",
   "metadata": {},
   "source": [
    "### Exercise\n",
    "\n",
    "Use that function to check that the average energy density and expectation values for infinite DMRG are independent of the unit cell length `L`."
   ]
  },
  {
   "cell_type": "code",
   "execution_count": 20,
   "id": "0f7df7fc",
   "metadata": {},
   "outputs": [
    {
     "name": "stdout",
     "output_type": "stream",
     "text": [
      "runnning DMRG for L=2, g=0.20, bc=infinite, chi_max=50\n",
      "max chi =7\n",
      "[-1.01003 -1.01003]\n",
      "\n",
      "\n",
      "runnning DMRG for L=4, g=0.20, bc=infinite, chi_max=50\n",
      "max chi =5\n",
      "[-1.01003 -1.01003 -1.01003 -1.01003]\n"
     ]
    }
   ],
   "source": [
    "model = TFIModel(L=2, J=1., g=0.2, bc='infinite')\n",
    "psi = run_DMRG(model)\n",
    "print(psi.bond_expectation_value(model.H_bonds))\n",
    "print(\"\\n\")\n",
    "model = TFIModel(L=4, J=1., g=0.2, bc='infinite')\n",
    "psi = run_DMRG(model)\n",
    "print(psi.bond_expectation_value(model.H_bonds))"
   ]
  },
  {
   "cell_type": "markdown",
   "id": "8f7b39ac",
   "metadata": {},
   "source": [
    "### Exercise\n",
    "\n",
    "Use the `run_DMRG` function above to plot expectation values as a function of `g` for fixed `J=1` with the following code.\n",
    "\n",
    "\n",
    "Modify it to also plot the average expectation values of `sigmaz` and `sigmax` and the \n",
    "`sigmaz` correlation function between spin 0 and 20."
   ]
  },
  {
   "cell_type": "code",
   "execution_count": 21,
   "id": "e9a35a7b",
   "metadata": {
    "scrolled": true
   },
   "outputs": [
    {
     "name": "stdout",
     "output_type": "stream",
     "text": [
      "runnning DMRG for L=2, g=0.00, bc=infinite, chi_max=50\n",
      "max chi =1\n",
      "runnning DMRG for L=2, g=0.10, bc=infinite, chi_max=50\n",
      "max chi =8\n",
      "runnning DMRG for L=2, g=0.20, bc=infinite, chi_max=50\n",
      "max chi =7\n",
      "runnning DMRG for L=2, g=0.30, bc=infinite, chi_max=50\n",
      "max chi =12\n",
      "runnning DMRG for L=2, g=0.40, bc=infinite, chi_max=50\n",
      "max chi =13\n",
      "runnning DMRG for L=2, g=0.50, bc=infinite, chi_max=50\n",
      "max chi =20\n",
      "runnning DMRG for L=2, g=0.60, bc=infinite, chi_max=50\n",
      "max chi =28\n",
      "runnning DMRG for L=2, g=0.70, bc=infinite, chi_max=50\n",
      "max chi =36\n",
      "runnning DMRG for L=2, g=0.80, bc=infinite, chi_max=50\n",
      "max chi =44\n",
      "runnning DMRG for L=2, g=0.90, bc=infinite, chi_max=50\n",
      "max chi =50\n",
      "runnning DMRG for L=2, g=1.00, bc=infinite, chi_max=50\n",
      "max chi =50\n",
      "runnning DMRG for L=2, g=1.10, bc=infinite, chi_max=50\n",
      "max chi =43\n",
      "runnning DMRG for L=2, g=1.20, bc=infinite, chi_max=50\n",
      "max chi =36\n",
      "runnning DMRG for L=2, g=1.30, bc=infinite, chi_max=50\n",
      "max chi =28\n",
      "runnning DMRG for L=2, g=1.40, bc=infinite, chi_max=50\n",
      "max chi =24\n",
      "runnning DMRG for L=2, g=1.50, bc=infinite, chi_max=50\n",
      "max chi =21\n",
      "runnning DMRG for L=2, g=1.60, bc=infinite, chi_max=50\n",
      "max chi =21\n",
      "runnning DMRG for L=2, g=1.70, bc=infinite, chi_max=50\n",
      "max chi =18\n",
      "runnning DMRG for L=2, g=1.80, bc=infinite, chi_max=50\n",
      "max chi =18\n",
      "runnning DMRG for L=2, g=1.90, bc=infinite, chi_max=50\n",
      "max chi =15\n",
      "runnning DMRG for L=2, g=2.00, bc=infinite, chi_max=50\n",
      "max chi =15\n"
     ]
    }
   ],
   "source": [
    "#gs = [0.1, 0.5, 1.0, 1.5, 2.0]\n",
    "gs = np.linspace(0., 2., 21)\n",
    "entropies = []\n",
    "vals_X = []\n",
    "vals_Z = []\n",
    "corrs_ZZ = []\n",
    "\n",
    "\n",
    "for g in gs:\n",
    "    model = TFIModel(L=2, J=1., g=g, bc='infinite')\n",
    "    psi = run_DMRG(model, chi_max=50)\n",
    "    entropies.append(np.max(psi.entanglement_entropy()))\n",
    "    vals_X.append(np.mean(psi.site_expectation_value(model.sigmax)))\n",
    "    vals_Z.append(np.mean(psi.site_expectation_value(model.sigmaz)))\n",
    "    corrs_ZZ.append(np.mean(psi.correlation_function(model.sigmaz, 0, model.sigmaz, 20)))\n",
    "\n",
    "    "
   ]
  },
  {
   "cell_type": "code",
   "execution_count": 22,
   "id": "4ce49bc6",
   "metadata": {},
   "outputs": [
    {
     "data": {
      "text/plain": [
       "<matplotlib.legend.Legend at 0x7ff7c3688af0>"
      ]
     },
     "execution_count": 22,
     "metadata": {},
     "output_type": "execute_result"
    },
    {
     "data": {
      "image/png": "[encoded data removed]",
      "text/plain": [
       "<Figure size 960x720 with 1 Axes>"
      ]
     },
     "metadata": {},
     "output_type": "display_data"
    }
   ],
   "source": [
    "plt.plot(gs, entropies, marker='o', label='max entropy $S$')\n",
    "# plot expecation values of sigmax and sigmaz as well\n",
    "plt.plot(gs, vals_X, marker='+', label=r'$<\\sigma^x>$')\n",
    "plt.plot(gs, vals_Z, marker='x', label=r'$<\\sigma^z>$')\n",
    "plt.plot(gs, corrs_ZZ, marker='x', label=r'$<\\sigma^z_0 \\sigma^z_{20}>$')\n",
    "\n",
    "\n",
    "plt.xlabel('$g/J$')\n",
    "plt.ylabel('expectation values')\n",
    "plt.legend(loc='best')\n"
   ]
  },
  {
   "cell_type": "markdown",
   "id": "17bee63e",
   "metadata": {},
   "source": [
    "# Defining a new model: the XX chain\n",
    "\n",
    "For the time evolution, we want to consider the XX chain in a staggered field, given by the Hamiltonian\n",
    "\n",
    "$$ H = \\sum_{i=0}^{N-2} (\\sigma^x_i \\sigma^x_{i+1} + \\sigma^y_i \\sigma^y_{i+1})  - h_s \\sum_{i=0}^{N-1} (-1)^i \\sigma^z_i \n",
    "     = 2 \\sum_{i=0}^{N-2} (\\sigma^+_i \\sigma^-_{i+1} + \\sigma^+_i \\sigma^-_{i+1})  - h_s \\sum_{i=0}^{N-1} (-1)^i \\sigma^z_i\n",
    "$$\n",
    "\n",
    "for the usual Pauli matrices $\\sigma^x, \\sigma^y, \\sigma^z$.\n",
    "\n",
    "A Jordan-Wigner transformation maps the XX Chain to free fermions, which we can diagonalize exactly with a few lines of python codes that are given in [free_fermions_exact.py](https://github.com/tenpy/tenpy_toycodes/blob/main/toycodes/free_fermions_exact.py)"
   ]
  },
  {
   "cell_type": "code",
   "execution_count": 23,
   "id": "a23c7236",
   "metadata": {},
   "outputs": [
    {
     "name": "stdout",
     "output_type": "stream",
     "text": [
      "E_exact =  -12.053348366664542\n"
     ]
    }
   ],
   "source": [
    "from toycodes.free_fermions_exact import XX_model_ground_state_energy\n",
    "\n",
    "print(\"E_exact = \", XX_model_ground_state_energy(L=10, h_staggered=0.))"
   ]
  },
  {
   "cell_type": "markdown",
   "id": "2b8919e4",
   "metadata": {},
   "source": [
    "### Exercise\n",
    "\n",
    "The following code implements the model for the XX Chain hamiltonian, but the MPO lacks some terms. Fill them in!\n",
    "\n",
    "\n",
    "Tip: In Python, `(-1)**i` represents $(-1)^i$.\n",
    "\n",
    "Tip: For the Hamiltonian $$H = \\sum_{i=0}^{N-2} (\\sigma^x_i \\sigma^x_{i+1} + \\sigma^y_i \\sigma^y_{i+1} + \\sigma^z_i \\sigma^z_{i+1}) - h \\sum_{i=0}^{N-1} \\sigma^z_i, $$ a possible MPO matrix W looks like\n",
    "$$ W = \\begin{pmatrix}\n",
    "1 & \\sigma^x & \\sigma^y & \\sigma^z & -h \\sigma^z \\\\\n",
    "0  & 0 &  0 & 0 & \\sigma^x \\\\ \n",
    "0  & 0 &  0 & 0 & \\sigma^y \\\\\n",
    "0  & 0 &  0 & 0 & \\sigma^z \\\\\n",
    "0  & 0 &  0 & 0 & 1 \n",
    "\\end{pmatrix} .$$\n",
    "Which parts do we need here?\n",
    "\n",
    "Compare the energies of DMRG and (imaginary) TEBD to check that you got it correct.\n",
    "\n",
    "**Note** that you have to use the Neel state as initial state to be in the right charge sector:\n",
    "the `|up up up ... up >` state already is an eigenstate of this Hamiltonian, so neither DMRG nor TEBD will modify it!"
   ]
  },
  {
   "cell_type": "code",
   "execution_count": 24,
   "id": "33f562a4",
   "metadata": {},
   "outputs": [],
   "source": [
    "class XXChain:\n",
    "    \"\"\"Simple class generating the Hamiltonian of the \n",
    "    The Hamiltonian reads\n",
    "    .. math ::\n",
    "        H = - J \\\\sum_{i} \\\\sigma^x_i \\\\sigma^x_{i+1} - g \\\\sum_{i} \\\\sigma^z_i\n",
    "    \"\"\"\n",
    "    def __init__(self, L, hs, bc='finite'):\n",
    "        assert bc in ['finite', 'infinite']\n",
    "        self.L, self.d, self.bc = L, 2, bc\n",
    "        self.hs = hs\n",
    "        self.sigmax = np.array([[0., 1.], [1., 0.]])  # Pauli X\n",
    "        self.sigmay = np.array([[0., -1j], [1j, 0.]]) # Pauli Y\n",
    "        self.sigmaz = np.array([[1., 0.], [0., -1.]]) # Pauli Z\n",
    "        self.id = np.eye(2)\n",
    "        self.init_H_bonds()\n",
    "        self.init_H_mpo()\n",
    "\n",
    "    def init_H_bonds(self):\n",
    "        \"\"\"Initialize `H_bonds` hamiltonian.\"\"\"\n",
    "        sx, sy, sz, id = self.sigmax, self.sigmay, self.sigmaz, self.id\n",
    "        d = self.d\n",
    "        nbonds = self.L - 1 if self.bc == 'finite' else self.L\n",
    "        H_list = []\n",
    "        for i in range(nbonds):\n",
    "            hL = hR = 0.5 * self.hs\n",
    "            if self.bc == 'finite':\n",
    "                if i == 0:\n",
    "                    hL = self.hs\n",
    "                if i + 1 == self.L - 1:\n",
    "                    hR = self.hs\n",
    "            H_bond = np.kron(sx, sx) + np.kron(sy, sy)\n",
    "            H_bond = H_bond - hL * (-1)**i * np.kron(sz, id) - hR * (-1)**(i+1) * np.kron(id, sz)\n",
    "            # H_bond has legs ``i, j, i*, j*``\n",
    "            H_list.append(np.reshape(H_bond, [d, d, d, d]))\n",
    "        self.H_bonds = H_list\n",
    "\n",
    "    # (note: not required for TEBD)\n",
    "    def init_H_mpo(self):\n",
    "        \"\"\"Initialize `H_mpo` Hamiltonian.\"\"\"\n",
    "        w_list = []\n",
    "        for i in range(self.L):\n",
    "            w = np.zeros((4, 4, self.d, self.d), dtype=complex)\n",
    "            w[0, 0] = w[3, 3] = self.id\n",
    "            \n",
    "            #raise NotImplementedError(\"add further entries here\")\n",
    "            w[0, 1] = self.sigmax\n",
    "            w[0, 2] = self.sigmay\n",
    "            w[0, 3] = - self.hs * (-1)**i * self.sigmaz\n",
    "            w[1, 3] = self.sigmax\n",
    "            w[2, 3] = self.sigmay\n",
    "            \n",
    "            w_list.append(w)\n",
    "        self.H_mpo = w_list\n",
    "        \n",
    "model = XXChain(9, 4., bc='finite')"
   ]
  },
  {
   "cell_type": "code",
   "execution_count": 25,
   "id": "5021c8b7",
   "metadata": {},
   "outputs": [
    {
     "name": "stdout",
     "output_type": "stream",
     "text": [
      "E_exact =  -37.92143925250613\n"
     ]
    }
   ],
   "source": [
    "print(\"E_exact = \", XX_model_ground_state_energy(model.L, model.hs))"
   ]
  },
  {
   "cell_type": "code",
   "execution_count": 26,
   "id": "7dd03222",
   "metadata": {},
   "outputs": [
    {
     "name": "stdout",
     "output_type": "stream",
     "text": [
      "dt = 0.10000: E = -37.6207943679329\n",
      "dt = 0.01000: E = -37.8912899426555\n",
      "dt = 0.00100: E = -37.9183076887500\n",
      "dt = 0.00010: E = -37.9209995590774\n",
      "dt = 0.00001: E = -37.9212690303092\n"
     ]
    }
   ],
   "source": [
    "chi_max = 100\n",
    "\n",
    "psi = init_Neel_MPS(model.L, model.d, model.bc)  # important: Neel\n",
    "for dt in [0.1, 0.01, 0.001, 1.e-4, 1.e-5]:\n",
    "    U_bonds = calc_U_bonds(model.H_bonds, dt)\n",
    "    run_TEBD(psi, U_bonds, N_steps=100, chi_max=chi_max, eps=1.e-10)\n",
    "    E = np.sum(psi.bond_expectation_value(model.H_bonds))\n",
    "    print(\"dt = {dt:.5f}: E = {E:.13f}\".format(dt=dt, E=E))"
   ]
  },
  {
   "cell_type": "code",
   "execution_count": 27,
   "id": "a4f5fc2e",
   "metadata": {},
   "outputs": [
    {
     "name": "stdout",
     "output_type": "stream",
     "text": [
      "sweep  1: E = -37.9216146988834\n",
      "sweep  2: E = -37.9214392525137\n",
      "sweep  3: E = -37.9214392525061\n",
      "sweep  4: E = -37.9214392525061\n",
      "sweep  5: E = -37.9214392525061\n",
      "sweep  6: E = -37.9214392525061\n",
      "sweep  7: E = -37.9214392525061\n",
      "sweep  8: E = -37.9214392525061\n",
      "sweep  9: E = -37.9214392525061\n",
      "sweep 10: E = -37.9214392525061\n"
     ]
    }
   ],
   "source": [
    "# DMRG again\n",
    "chi_max = 100\n",
    "psi = init_Neel_MPS(model.L, model.d, model.bc)  # important: Neel!\n",
    "eng = SimpleDMRGEngine(psi, model, chi_max=chi_max, eps=1.e-10)\n",
    "for i in range(10):\n",
    "    eng.sweep()\n",
    "    E = np.sum(psi.bond_expectation_value(model.H_bonds))\n",
    "    #print(psi.get_chi())\n",
    "    print(\"sweep {i:2d}: E = {E:.13f}\".format(i=i + 1, E=E))"
   ]
  },
  {
   "cell_type": "code",
   "execution_count": null,
   "id": "42fe4054",
   "metadata": {},
   "outputs": [],
   "source": []
  },
  {
   "cell_type": "markdown",
   "id": "4969359f",
   "metadata": {},
   "source": [
    "# Time evolution of the Neel state under the XX chain\n",
    "\n",
    "We will now consider the Neel state as an initial state for (real-)time evolution, i.e., calculate\n",
    "$$ \\vert \\psi(t)\\rangle =e^{-i H t} \\vert\\uparrow \\downarrow \\uparrow \\downarrow \\dots\\rangle$$\n",
    "under the Hamiltonian of the XX chain (with staggered field).\n",
    "\n",
    "Again, we can use the mapping to free fermions to calculate some quantities exactly.\n",
    "We will focus on the half chain entanglement entropy."
   ]
  },
  {
   "cell_type": "code",
   "execution_count": 28,
   "id": "9d9fc268",
   "metadata": {},
   "outputs": [],
   "source": [
    "from toycodes.free_fermions_exact import XX_model_time_evolved_entropies\n",
    "\n",
    "dt = 0.1\n",
    "tmax = 4.\n",
    "L = 50\n",
    "hs = 0.\n",
    "model = XXChain(L, hs)\n",
    "\n",
    "times_exact = np.arange(0., tmax, dt)\n",
    "S_exact = XX_model_time_evolved_entropies(L=L, h_staggered=hs, time_list=times_exact)"
   ]
  },
  {
   "cell_type": "markdown",
   "id": "777211cf",
   "metadata": {},
   "source": [
    "Running TEBD works like this:"
   ]
  },
  {
   "cell_type": "code",
   "execution_count": 29,
   "id": "12f349e4",
   "metadata": {
    "scrolled": true
   },
   "outputs": [
    {
     "name": "stdout",
     "output_type": "stream",
     "text": [
      "t=0.00\n",
      "t=0.10\n",
      "t=0.20\n",
      "t=0.30\n",
      "t=0.40\n",
      "t=0.50\n",
      "t=0.60\n",
      "t=0.70\n",
      "t=0.80\n",
      "t=0.90\n",
      "t=1.00\n",
      "t=1.10\n",
      "t=1.20\n",
      "t=1.30\n",
      "t=1.40\n",
      "t=1.50\n",
      "t=1.60\n",
      "t=1.70\n",
      "t=1.80\n",
      "t=1.90\n",
      "t=2.00\n",
      "t=2.10\n",
      "t=2.20\n",
      "t=2.30\n",
      "t=2.40\n",
      "t=2.50\n",
      "t=2.60\n",
      "t=2.70\n",
      "t=2.80\n",
      "t=2.90\n",
      "t=3.00\n",
      "t=3.10\n",
      "t=3.20\n",
      "t=3.30\n",
      "t=3.40\n",
      "t=3.50\n",
      "t=3.60\n",
      "t=3.70\n",
      "t=3.80\n",
      "t=3.90\n"
     ]
    }
   ],
   "source": [
    "chi_max = 30\n",
    "\n",
    "psi = init_Neel_MPS(L, 2, bc='finite')\n",
    "U_bonds = calc_U_bonds(model.H_bonds, 1.j * dt) # here, imaginary dt = real time evolution\n",
    "t = 0.\n",
    "times_tebd = []\n",
    "S_tebd = []\n",
    "while t < tmax: \n",
    "    times_tebd.append(t)\n",
    "    S_tebd.append(psi.entanglement_entropy()[(L-1)//2])\n",
    "    print(f\"t={t:.2f}\")\n",
    "    t += dt\n",
    "    run_TEBD(psi, U_bonds, N_steps=1, chi_max=chi_max, eps=1.e-7)\n"
   ]
  },
  {
   "cell_type": "markdown",
   "id": "d5db1896-bca5-483f-aa96-60c6db4aeb30",
   "metadata": {},
   "source": [
    "For reference, one can also run TDVP with the [e_tdvp.py](https://github.com/tenpy/tenpy_toycodes/blob/main/toycodes/e_tdvp.py) in a very similar pattern as follows.\n",
    "If you know how TDVP works, try to take a look and spot the structure in the code.\n",
    "Otherwise, you can also consider it a black box for now.\n",
    "\n",
    "The toycode implements the TDVP time evolution for finite MPS with the `SimpleTDVPEngine`.\n",
    "It implements both the true TDVP with one-site updates in `sweep_one_site`, and `sweep_two_site` that allows to grow the bond dimension.\n",
    "\n"
   ]
  },
  {
   "cell_type": "code",
   "execution_count": 30,
   "id": "7814c1e9",
   "metadata": {},
   "outputs": [],
   "source": [
    "from toycodes.e_tdvp import SimpleTDVPEngine"
   ]
  },
  {
   "cell_type": "code",
   "execution_count": 31,
   "id": "9c6f5f2e",
   "metadata": {
    "scrolled": true
   },
   "outputs": [
    {
     "name": "stdout",
     "output_type": "stream",
     "text": [
      "t=0.00, chi_max = 1\n"
     ]
    },
    {
     "name": "stderr",
     "output_type": "stream",
     "text": [
      "/home/johannes/postdoc/2022-08-29-ESI-Vienna/exercises_git/toycodes/e_tdvp.py:242: UserWarning: Trace of LinearOperator not available, it will be estimated. Provide `traceA` to ensure performance.\n",
      "  return expm_multiply((-1.j*dt) * H, psi0)\n"
     ]
    },
    {
     "name": "stdout",
     "output_type": "stream",
     "text": [
      "t=0.10, chi_max = 4\n",
      "t=0.20, chi_max = 10\n",
      "t=0.30, chi_max = 12\n",
      "t=0.40, chi_max = 18\n",
      "t=0.50, chi_max = 23\n",
      "t=0.60, chi_max = 28\n",
      "t=0.70, chi_max = 30\n",
      "t=0.80, chi_max = 30\n",
      "t=0.90, chi_max = 30\n",
      "t=1.00, chi_max = 30\n",
      "t=1.10, chi_max = 30\n",
      "t=1.20, chi_max = 30\n",
      "t=1.30, chi_max = 30\n",
      "t=1.40, chi_max = 30\n",
      "t=1.50, chi_max = 30\n",
      "t=1.60, chi_max = 30\n",
      "t=1.70, chi_max = 30\n",
      "t=1.80, chi_max = 30\n",
      "t=1.90, chi_max = 30\n",
      "t=2.00, chi_max = 30\n",
      "t=2.10, chi_max = 30\n",
      "t=2.20, chi_max = 30\n",
      "t=2.30, chi_max = 30\n",
      "t=2.40, chi_max = 30\n",
      "t=2.50, chi_max = 30\n",
      "t=2.60, chi_max = 30\n",
      "t=2.70, chi_max = 30\n",
      "t=2.80, chi_max = 30\n",
      "t=2.90, chi_max = 30\n",
      "t=3.00, chi_max = 30\n",
      "t=3.10, chi_max = 30\n",
      "t=3.20, chi_max = 30\n",
      "t=3.30, chi_max = 30\n",
      "t=3.40, chi_max = 30\n",
      "t=3.50, chi_max = 30\n",
      "t=3.60, chi_max = 30\n",
      "t=3.70, chi_max = 30\n",
      "t=3.80, chi_max = 30\n",
      "t=3.90, chi_max = 30\n"
     ]
    }
   ],
   "source": [
    "chi_max = 30\n",
    "t_switch = 1.\n",
    "\n",
    "psi = init_Neel_MPS(L, 2, bc='finite')\n",
    "eng = SimpleTDVPEngine(psi, model, chi_max=chi_max, eps=1.e-7)\n",
    "\n",
    "t = 0.\n",
    "times_tdvp = []\n",
    "S_tdvp = []\n",
    "while t < tmax: \n",
    "    times_tdvp.append(t)\n",
    "    S_tdvp.append(psi.entanglement_entropy()[(L-1)//2])\n",
    "    print(f\"t={t:.2f}, chi_max = {max(psi.get_chi()):d}\")\n",
    "    t += dt\n",
    "    if t < t_switch:\n",
    "        eng.sweep_two_site(dt)\n",
    "    else:\n",
    "        eng.sweep_one_site(dt)"
   ]
  },
  {
   "cell_type": "code",
   "execution_count": null,
   "id": "8139c6a8",
   "metadata": {},
   "outputs": [],
   "source": []
  },
  {
   "cell_type": "code",
   "execution_count": 32,
   "id": "667f930e",
   "metadata": {},
   "outputs": [
    {
     "data": {
      "text/plain": [
       "<matplotlib.legend.Legend at 0x7ff7c320cdc0>"
      ]
     },
     "execution_count": 32,
     "metadata": {},
     "output_type": "execute_result"
    },
    {
     "data": {
      "image/png": "[encoded data removed]",
      "text/plain": [
       "<Figure size 960x720 with 1 Axes>"
      ]
     },
     "metadata": {},
     "output_type": "display_data"
    }
   ],
   "source": [
    "plt.plot(times_exact, S_exact, label=\"exact\")\n",
    "plt.plot(times_tebd, S_tebd, label=\"TEBD\")\n",
    "plt.plot(times_tdvp, S_tdvp, label=\"TDVP\")\n",
    "\n",
    "plt.xlabel('time $t$')\n",
    "plt.ylabel('half-chain entropy $S$')\n",
    "plt.legend(loc='best')"
   ]
  },
  {
   "cell_type": "markdown",
   "id": "a83ffdd6",
   "metadata": {},
   "source": [
    "### Exercise\n",
    "\n",
    "Read the code of `e_tdvp.py` and try to see the general structure of how it works."
   ]
  },
  {
   "cell_type": "markdown",
   "id": "9553b647",
   "metadata": {},
   "source": [
    "### Exercise\n",
    "\n",
    "Add curves for smaller (or larger) chi to the plot above. (It might take a little while to run for large chi...).\n",
    "\n",
    "Try switching earlier or later from two-site to one-site TDVP.\n",
    "\n",
    "What happens if you switch on the staggered field?\n",
    "\n",
    "\n",
    "**NOTE**: You can avoid having to rerun the time evolution if you make copies of the results `S_tdvp` and similar lists.\n"
   ]
  },
  {
   "cell_type": "code",
   "execution_count": 33,
   "id": "ad4d0c74",
   "metadata": {
    "scrolled": true
   },
   "outputs": [
    {
     "name": "stdout",
     "output_type": "stream",
     "text": [
      "t=0.00, chi_max = 1\n",
      "t=0.10, chi_max = 4\n",
      "t=0.20, chi_max = 10\n",
      "t=0.30, chi_max = 10\n",
      "t=0.40, chi_max = 10\n",
      "t=0.50, chi_max = 10\n",
      "t=0.60, chi_max = 10\n",
      "t=0.70, chi_max = 10\n",
      "t=0.80, chi_max = 10\n",
      "t=0.90, chi_max = 10\n",
      "t=1.00, chi_max = 10\n",
      "t=1.10, chi_max = 10\n",
      "t=1.20, chi_max = 10\n",
      "t=1.30, chi_max = 10\n",
      "t=1.40, chi_max = 10\n",
      "t=1.50, chi_max = 10\n",
      "t=1.60, chi_max = 10\n",
      "t=1.70, chi_max = 10\n",
      "t=1.80, chi_max = 10\n",
      "t=1.90, chi_max = 10\n",
      "t=2.00, chi_max = 10\n",
      "t=2.10, chi_max = 10\n",
      "t=2.20, chi_max = 10\n",
      "t=2.30, chi_max = 10\n",
      "t=2.40, chi_max = 10\n",
      "t=2.50, chi_max = 10\n",
      "t=2.60, chi_max = 10\n",
      "t=2.70, chi_max = 10\n",
      "t=2.80, chi_max = 10\n",
      "t=2.90, chi_max = 10\n",
      "t=3.00, chi_max = 10\n",
      "t=3.10, chi_max = 10\n",
      "t=3.20, chi_max = 10\n",
      "t=3.30, chi_max = 10\n",
      "t=3.40, chi_max = 10\n",
      "t=3.50, chi_max = 10\n",
      "t=3.60, chi_max = 10\n",
      "t=3.70, chi_max = 10\n",
      "t=3.80, chi_max = 10\n",
      "t=3.90, chi_max = 10\n"
     ]
    }
   ],
   "source": [
    "chi_max = 10\n",
    "\n",
    "psi = init_Neel_MPS(L, 2, bc='finite')\n",
    "eng = SimpleTDVPEngine(psi, model, chi_max=chi_max, eps=1.e-7)\n",
    "\n",
    "t = 0.\n",
    "times_tdvp_chi_10 = []\n",
    "S_tdvp_chi_10 = []\n",
    "while t < tmax: \n",
    "    times_tdvp_chi_10.append(t)\n",
    "    S_tdvp_chi_10.append(psi.entanglement_entropy()[(L-1)//2])\n",
    "    print(f\"t={t:.2f}, chi_max = {max(psi.get_chi()):d}\")\n",
    "    t += dt\n",
    "    if t < t_switch:\n",
    "        eng.sweep_two_site(dt)\n",
    "    else:\n",
    "        eng.sweep_one_site(dt)"
   ]
  },
  {
   "cell_type": "code",
   "execution_count": 34,
   "id": "f0989680",
   "metadata": {},
   "outputs": [
    {
     "data": {
      "text/plain": [
       "<matplotlib.legend.Legend at 0x7ff7c324b970>"
      ]
     },
     "execution_count": 34,
     "metadata": {},
     "output_type": "execute_result"
    },
    {
     "data": {
      "image/png": "[encoded data removed]",
      "text/plain": [
       "<Figure size 960x720 with 1 Axes>"
      ]
     },
     "metadata": {},
     "output_type": "display_data"
    }
   ],
   "source": [
    "plt.plot(times_exact, S_exact, label=\"exact\")\n",
    "plt.plot(times_tebd, S_tebd, label=r\"TEBD, $\\chi=30$\")\n",
    "plt.plot(times_tdvp, S_tdvp, label=r\"TDVP, $\\chi=30$\")\n",
    "plt.plot(times_tdvp_chi_10, S_tdvp_chi_10, label=r\"TDVP, $\\chi=10$\")\n",
    "\n",
    "\n",
    "plt.xlabel('time $t$')\n",
    "plt.ylabel('half-chain entropy $S$')\n",
    "plt.legend(loc='best')"
   ]
  },
  {
   "cell_type": "code",
   "execution_count": null,
   "id": "d16df3aa",
   "metadata": {},
   "outputs": [],
   "source": []
  },
  {
   "cell_type": "markdown",
   "id": "1e99ab49",
   "metadata": {},
   "source": [
    "### Advanced exercises - if you're an expert and have time left ;-)\n",
    "\n",
    "\n",
    "- Obtain the ground state of the transverse field ising model at the critical point with DMRG.\n",
    "  Try to plot the corrlation function as a function of `j-i`.\n",
    "  What form does it have? Is an MPS a good ansatz for that?\n",
    "- Calling `SimpleMPS.correlation_function` in a loop over `j` for fixed `i` is inefficient for large `j-i`. \n",
    "  Try to rewrite the correlation function to obtain the values for all `j>i` up to some cutoff in a single loop.\n",
    "- Look at the light-cone after a local quench of the XX chain, similarly as is done in  `e_tdvp.example_TDVP_tf_ising_lightcone`. \n",
    "  How does the speed of the light cone change with the staggered field?"
   ]
  },
  {
   "cell_type": "code",
   "execution_count": null,
   "id": "1dfbc061",
   "metadata": {},
   "outputs": [],
   "source": []
  },
  {
   "cell_type": "code",
   "execution_count": null,
   "id": "b9d25343",
   "metadata": {},
   "outputs": [],
   "source": []
  },
  {
   "cell_type": "code",
   "execution_count": null,
   "id": "da649492-fe07-437f-931a-7843a3e4a6a4",
   "metadata": {},
   "outputs": [],
   "source": []
  },
  {
   "cell_type": "code",
   "execution_count": null,
   "id": "97801804-24e0-4261-912f-699fc8b93228",
   "metadata": {},
   "outputs": [],
   "source": []
  }
 ],
 "metadata": {
  "kernelspec": {
   "display_name": "Python 3 (ipykernel)",
   "language": "python",
   "name": "python3"
  },
  "language_info": {
   "codemirror_mode": {
    "name": "ipython",
    "version": 3
   },
   "file_extension": ".py",
   "mimetype": "text/x-python",
   "name": "python",
   "nbconvert_exporter": "python",
   "pygments_lexer": "ipython3",
   "version": "3.10.6"
  }
 },
 "nbformat": 4,
 "nbformat_minor": 5
}
