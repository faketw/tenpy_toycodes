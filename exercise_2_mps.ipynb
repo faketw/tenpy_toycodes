{
 "cells": [
  {
   "cell_type": "markdown",
   "id": "2fe29049",
   "metadata": {},
   "source": [
    "# MPS basics\n",
    "\n",
    "In this notebook, we introduce the `SimpleMPS` class from `toycodes/a_mps.py` and the model class from `toycodes/b_model.py`."
   ]
  },
  {
   "cell_type": "code",
   "execution_count": 1,
   "id": "8c0a250c-dfd9-4377-bada-fb06f5e9f86c",
   "metadata": {},
   "outputs": [],
   "source": [
    "# standard imports and cosmetics\n",
    "\n",
    "import numpy as np\n",
    "\n",
    "import matplotlib.pyplot as plt\n",
    "\n",
    "np.set_printoptions(precision=5, suppress=True, linewidth=100, threshold=50)\n",
    "plt.rcParams['figure.dpi'] = 150"
   ]
  },
  {
   "cell_type": "markdown",
   "id": "337e0452",
   "metadata": {},
   "source": [
    "## SimpleMPS class from `toycodes/a_mps.py`\n",
    "\n",
    "The file `toycodes/a_mps.py` defines a `SimpleMPS` class, that provides methods for expectation values and the entanglement entropy. \n",
    "\n",
    "You can initialize an inital product state MPS with the provided functions\n",
    "- `init_FM_MPS` to initialize the state $\\lvert \\uparrow \\uparrow \\cdots \\uparrow \\uparrow \\rangle$, and\n",
    "- `init_Neel_MPS` to initialize the Neel state $\\lvert \\uparrow \\downarrow \\cdots \\uparrow \\downarrow \\rangle$"
   ]
  },
  {
   "cell_type": "code",
   "execution_count": 2,
   "id": "03fb58d1-4bb9-464d-98e7-35c564d13e64",
   "metadata": {},
   "outputs": [],
   "source": [
    "import toycodes.a_mps\n",
    "from toycodes.a_mps import SimpleMPS, init_FM_MPS, init_Neel_MPS"
   ]
  },
  {
   "cell_type": "code",
   "execution_count": 3,
   "id": "1f2cd7eb-534e-422e-94d3-eb2abafba7ce",
   "metadata": {},
   "outputs": [
    {
     "name": "stdout",
     "output_type": "stream",
     "text": [
      "<toycodes.a_mps.SimpleMPS object at 0x7fdd3c402fb0>\n"
     ]
    }
   ],
   "source": [
    "psi_FM = init_FM_MPS(L=10)\n",
    "print(psi_FM)"
   ]
  },
  {
   "cell_type": "code",
   "execution_count": 4,
   "id": "a4f0ecc0",
   "metadata": {},
   "outputs": [
    {
     "name": "stdout",
     "output_type": "stream",
     "text": [
      "[1. 1. 1. 1. 1. 1. 1. 1. 1. 1.]\n"
     ]
    }
   ],
   "source": [
    "Z = np.diag([1., -1.])\n",
    "\n",
    "print(psi_FM.site_expectation_value(Z))"
   ]
  },
  {
   "cell_type": "markdown",
   "id": "8b77ba98",
   "metadata": {},
   "source": [
    "### Exercise: expectation values and entropy\n",
    "\n",
    "- Initialize a Neel state MPS. Print the expectation values of `Z`\n",
    "- Print the entanglement entropy. What do you expect? Why do you get so many numbers, and not just one?\n",
    "  *Tip*: read the code ;-)\n",
    "- Extract the half-chain entanglement entropy, i.e., the entropy when cutting the chain into two equal-length halves."
   ]
  },
  {
   "cell_type": "code",
   "execution_count": 5,
   "id": "7905b006-9232-437a-a3aa-ba75eb6bb96a",
   "metadata": {},
   "outputs": [
    {
     "name": "stdout",
     "output_type": "stream",
     "text": [
      "[ 1. -1.  1. -1.  1. -1.  1. -1.  1. -1.]\n"
     ]
    }
   ],
   "source": [
    "psi_Neel = init_Neel_MPS(L=10)\n",
    "print(psi_Neel.site_expectation_value(Z))"
   ]
  },
  {
   "cell_type": "code",
   "execution_count": 6,
   "id": "82da0ad4-3fd6-4f08-9c70-73da0138bbe6",
   "metadata": {},
   "outputs": [
    {
     "name": "stdout",
     "output_type": "stream",
     "text": [
      "[-0. -0. -0. -0. -0. -0. -0. -0. -0.]\n"
     ]
    }
   ],
   "source": [
    "print(psi_Neel.entanglement_entropy()) \n",
    "# one value for cutting at each bond!"
   ]
  },
  {
   "cell_type": "code",
   "execution_count": 7,
   "id": "4716bde6-4dfa-46f6-b983-65efb9bc9972",
   "metadata": {},
   "outputs": [
    {
     "name": "stdout",
     "output_type": "stream",
     "text": [
      "half-chain entropy:  -0.0\n"
     ]
    }
   ],
   "source": [
    "print(\"half-chain entropy: \", psi_Neel.entanglement_entropy()[(psi_Neel.L - 1)//2])\n",
    "# a product state has no entanglement!"
   ]
  },
  {
   "cell_type": "code",
   "execution_count": null,
   "id": "16498b4f-f0d7-4699-89a4-8f63f8f6b59a",
   "metadata": {},
   "outputs": [],
   "source": []
  },
  {
   "cell_type": "markdown",
   "id": "041eb47b-53e0-4c6d-8eee-f73129a58580",
   "metadata": {},
   "source": [
    "### Exercise: `init_PM_MPS()`\n",
    "\n",
    "Write a function `init_PM_MPS` to initialize the state $\\lvert \\rightarrow \\rightarrow \\cdots \\rightarrow \\rightarrow \\rangle$,\n",
    "where $\\lvert  \\rightarrow \\rangle = \\frac{1}{\\sqrt{2}} \\big( \\lvert\\uparrow \\rangle + \\lvert\\downarrow\\rangle \\big) $ is the spin-1/2 state pointing in plus x direction.\n",
    "\n",
    "*Tip*: the code should be similar to `init_FM_MPS`."
   ]
  },
  {
   "cell_type": "code",
   "execution_count": 8,
   "id": "5134600d-36b5-469c-b24d-30cde0948aa6",
   "metadata": {},
   "outputs": [],
   "source": [
    "def init_PM_MPS(L, bc='finite'):\n",
    "    \"\"\"Return a paramagnetic MPS (= product state with all spins pointing in +x direction)\"\"\"\n",
    "    d = 2\n",
    "    B = np.zeros([1, d, 1], dtype=float)\n",
    "    B[0, 0, 0] = 1./np.sqrt(2)\n",
    "    B[0, 1, 0] = 1./np.sqrt(2)\n",
    "    S = np.ones([1], dtype=float)\n",
    "    Bs = [B.copy() for i in range(L)]\n",
    "    Ss = [S.copy() for i in range(L)]\n",
    "    return SimpleMPS(Bs, Ss, bc=bc)"
   ]
  },
  {
   "cell_type": "code",
   "execution_count": 9,
   "id": "67325696-74e1-4b1b-98b1-43af1ef4e989",
   "metadata": {},
   "outputs": [],
   "source": [
    "psi_PM = init_PM_MPS(L=10)"
   ]
  },
  {
   "cell_type": "markdown",
   "id": "0966eb59",
   "metadata": {},
   "source": [
    "## Model class\n",
    "\n",
    "The file `toycodes/b_model.py` defines a `TFIModel` class representing the transverse field Ising model        \n",
    "$$H = - J \\sum_{i} Z_i Z_{i+1} - g \\sum_{i} X_i$$\n",
    "\n",
    "It provides the Hamiltonian both in the form of bond-terms `H_bonds` (as required for TEBD) and in the form of an MPO `H_mpo` (as required for DMRG).\n",
    "You can use `H_bonds` with `SimpleMPS.bond_expectation_values` to evalue the energy:\n"
   ]
  },
  {
   "cell_type": "code",
   "execution_count": 10,
   "id": "d439f112",
   "metadata": {},
   "outputs": [
    {
     "name": "stdout",
     "output_type": "stream",
     "text": [
      "<H_bonds> =  [-1. -1. -1. -1. -1. -1. -1. -1. -1.]\n",
      "energy: -9.0\n",
      "should be -9.0\n"
     ]
    }
   ],
   "source": [
    "from toycodes.b_model import TFIModel\n",
    "\n",
    "L = 10\n",
    "J = 1.\n",
    "g = 1.2\n",
    "model = TFIModel(L=L, J=J, g=g, bc='finite')\n",
    "\n",
    "print(\"<H_bonds> = \", psi_FM.bond_expectation_value(model.H_bonds))\n",
    "print(\"energy:\", np.sum(psi_FM.bond_expectation_value(model.H_bonds)))\n",
    "# (make sure the model and state have the same length and boundary conditions!)\n",
    "\n",
    "print(\"should be\", (L-1)* (-J) * (1. * 1.) + L * (-g) * (0.) )"
   ]
  },
  {
   "cell_type": "markdown",
   "id": "017d4d67",
   "metadata": {},
   "source": [
    "### Exercise\n",
    "\n",
    "- Find the code where the MPO `W` for this model is defined to be\n",
    "$ W =  \\begin{pmatrix} \\mathbb{1} & \\sigma^Z & -g \\sigma^X \\\\ & & -J \\sigma^Z \\\\ & & \\mathbb{1} \\end{pmatrix} $\n",
    "\n",
    "- Check the energies for the different initial states make sure it matches what you expect."
   ]
  },
  {
   "cell_type": "code",
   "execution_count": 11,
   "id": "916858f6-bdd6-4eee-b3ac-9ee8de19f5d4",
   "metadata": {},
   "outputs": [],
   "source": [
    "# the code is in the method `init_H_mpo()`."
   ]
  },
  {
   "cell_type": "code",
   "execution_count": 12,
   "id": "b3c564f8-ef0e-444d-a0fa-c64bd5cde49c",
   "metadata": {},
   "outputs": [
    {
     "name": "stdout",
     "output_type": "stream",
     "text": [
      "energy: 9.0\n",
      "should be 9.0\n"
     ]
    }
   ],
   "source": [
    "psi_Neel = init_Neel_MPS(L=L)\n",
    "print(\"energy:\", np.sum(psi_Neel.bond_expectation_value(model.H_bonds)))\n",
    "print(\"should be\", (L-1)* (-J) * (1. * -1.) + L * (-g) * (0.) )"
   ]
  },
  {
   "cell_type": "code",
   "execution_count": 13,
   "id": "9b4fdc65-077e-4a1d-bea0-0e1a1eff44d6",
   "metadata": {},
   "outputs": [
    {
     "name": "stdout",
     "output_type": "stream",
     "text": [
      "energy: -11.999999999999993\n",
      "should be -12.0\n"
     ]
    }
   ],
   "source": [
    "psi_PM = init_PM_MPS(L=L)\n",
    "print(\"energy:\", np.sum(psi_PM.bond_expectation_value(model.H_bonds)))\n",
    "print(\"should be\", (L-1)* (-J) * (0. * 0.) + L * (-g) * (1.) )"
   ]
  },
  {
   "cell_type": "code",
   "execution_count": null,
   "id": "0c91a163-8545-4478-b6af-ac26c617c62d",
   "metadata": {},
   "outputs": [],
   "source": []
  },
  {
   "cell_type": "code",
   "execution_count": null,
   "id": "cb17e0cc-8138-4348-8faf-bd727a3b87ca",
   "metadata": {},
   "outputs": [],
   "source": []
  }
 ],
 "metadata": {
  "kernelspec": {
   "display_name": "Python 3 (ipykernel)",
   "language": "python",
   "name": "python3"
  },
  "language_info": {
   "codemirror_mode": {
    "name": "ipython",
    "version": 3
   },
   "file_extension": ".py",
   "mimetype": "text/x-python",
   "name": "python",
   "nbconvert_exporter": "python",
   "pygments_lexer": "ipython3",
   "version": "3.10.6"
  }
 },
 "nbformat": 4,
 "nbformat_minor": 5
}
